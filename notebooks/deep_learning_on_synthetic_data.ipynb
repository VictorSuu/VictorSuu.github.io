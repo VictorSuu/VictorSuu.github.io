{
 "cells": [
  {
   "cell_type": "markdown",
   "metadata": {},
   "source": [
    "# Deep Learning on Synthetic Data"
   ]
  },
  {
   "cell_type": "code",
   "execution_count": null,
   "metadata": {},
   "outputs": [],
   "source": [
    "import plotly.graph_objects as go\n",
    "import plotly.io as pio\n",
    "import plotly.figure_factory as ff\n",
    "import trimesh"
   ]
  },
  {
   "cell_type": "code",
   "execution_count": null,
   "metadata": {},
   "outputs": [],
   "source": [
    "mesh = trimesh.load(\"../data/cup_triangle.ply\")\n",
    "\n",
    "vertices = mesh.vertices\n",
    "faces = mesh.faces\n",
    "face_colors = mesh.visual.face_colors\n",
    "\n",
    "x = vertices[:, 0]\n",
    "y = vertices[:, 1]\n",
    "z = vertices[:, 2]\n",
    "i = faces[:, 0]\n",
    "j = faces[:, 1]\n",
    "k = faces[:, 2]\n",
    "\n",
    "fig = go.Figure(ff.create_trisurf(x=x, y=y, z=z,\n",
    "                                  simplices=faces,\n",
    "                                  plot_edges=True,\n",
    "                                  edges_color=\"black\",\n",
    "                                  colormap=\"rgb(200, 200, 200)\",\n",
    "                                  show_colorbar=False).data)\n",
    "\n",
    "# The figure factory creates two plots: 1. The triangle model, 2. The mesh.\n",
    "# Visibility is set here changed in the visualization using the buttons.\n",
    "buttons = [dict(label=\"w/ mesh\", method=\"update\", args=[dict(visible=[True, True])]),\n",
    "           dict(label=\"w/o mesh\", method=\"update\", args=[dict(visible=[True, False])]),\n",
    "           dict(label=\"wireframe\", method=\"update\", args=[dict(visible=[False, True])])]\n",
    "\n",
    "#fig = go.Figure(go.Mesh3d(x=x,\n",
    "#                          y=y,\n",
    "#                          z=z,\n",
    "#                          #facecolor=face_colors,\n",
    "#                          #facecolor=[\"gray\" for _ in face_colors],\n",
    "#                          color=\"lightgrey\",\n",
    "#                          i=i,\n",
    "#                          j=j,\n",
    "#                          k=k))\n",
    "\n",
    "#fig = go.Figure(ff.create_trisurf(x=x, y=y, z=z,\n",
    "#                                  simplices=triangles,\n",
    "#                                  plot_edges=False,\n",
    "#                                  colormap=\"rgb(200, 200, 200)\",\n",
    "#                                  show_colorbar=False).data)\n",
    "\n",
    "camera = dict(eye=dict(x=2, y=2, z=2))\n",
    "\n",
    "fig.update_layout(scene=dict(\n",
    "                    xaxis=dict(visible=False),\n",
    "                    yaxis=dict(visible=False),\n",
    "                    zaxis=dict(visible=False),\n",
    "                    aspectmode='data'),\n",
    "                  height=500,\n",
    "                  margin=dict(r=0, l=0, b=0, t=0, pad=0),\n",
    "                  scene_dragmode=\"orbit\",\n",
    "                  scene_camera=camera,\n",
    "                  updatemenus=[dict(buttons=buttons, x=0.1, y=1)],\n",
    "                  showlegend=False)"
   ]
  },
  {
   "cell_type": "code",
   "execution_count": null,
   "metadata": {},
   "outputs": [],
   "source": [
    "# Save figure\n",
    "pio.write_html(fig,\n",
    "               file='../_includes/figures/cup.html',\n",
    "               full_html=False,\n",
    "               include_plotlyjs='cdn')"
   ]
  }
 ],
 "metadata": {
  "kernelspec": {
   "display_name": "Python 3",
   "language": "python",
   "name": "python3"
  },
  "language_info": {
   "codemirror_mode": {
    "name": "ipython",
    "version": 3
   },
   "file_extension": ".py",
   "mimetype": "text/x-python",
   "name": "python",
   "nbconvert_exporter": "python",
   "pygments_lexer": "ipython3",
   "version": "3.8.8"
  }
 },
 "nbformat": 4,
 "nbformat_minor": 4
}
