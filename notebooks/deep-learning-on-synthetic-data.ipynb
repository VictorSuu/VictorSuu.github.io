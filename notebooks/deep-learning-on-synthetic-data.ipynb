{
 "cells": [
  {
   "cell_type": "markdown",
   "metadata": {},
   "source": [
    "# Deep Learning on Synthetic Data"
   ]
  },
  {
   "cell_type": "markdown",
   "metadata": {},
   "source": [
    "## 1. Make interactive visualization of the cup"
   ]
  },
  {
   "cell_type": "code",
   "execution_count": null,
   "metadata": {},
   "outputs": [],
   "source": [
    "import plotly.graph_objects as go\n",
    "import plotly.io as pio\n",
    "import plotly.figure_factory as ff\n",
    "import trimesh"
   ]
  },
  {
   "cell_type": "code",
   "execution_count": null,
   "metadata": {},
   "outputs": [],
   "source": [
    "mesh = trimesh.load(\"../data/cup/cup_triangle.ply\")\n",
    "\n",
    "vertices = mesh.vertices\n",
    "faces = mesh.faces\n",
    "face_colors = mesh.visual.face_colors\n",
    "\n",
    "x = vertices[:, 0]\n",
    "y = vertices[:, 1]\n",
    "z = vertices[:, 2]\n",
    "i = faces[:, 0]\n",
    "j = faces[:, 1]\n",
    "k = faces[:, 2]\n",
    "\n",
    "fig = go.Figure(ff.create_trisurf(x=x, y=y, z=z,\n",
    "                                  simplices=faces,\n",
    "                                  plot_edges=True,\n",
    "                                  edges_color=\"black\",\n",
    "                                  colormap=\"rgb(200, 200, 200)\",\n",
    "                                  show_colorbar=False).data)\n",
    "\n",
    "buttons = [dict(label=\"w/ mesh\", method=\"update\", args=[dict(visible=[True, True])]),\n",
    "           dict(label=\"w/o mesh\", method=\"update\", args=[dict(visible=[True, False])]),\n",
    "           dict(label=\"wireframe\", method=\"update\", args=[dict(visible=[False, True])])]\n",
    "\n",
    "camera = dict(eye=dict(x=2, y=2, z=2))\n",
    "\n",
    "fig.update_layout(scene=dict(\n",
    "                    xaxis=dict(visible=False),\n",
    "                    yaxis=dict(visible=False),\n",
    "                    zaxis=dict(visible=False),\n",
    "                    aspectmode='data'),\n",
    "                  height=500,\n",
    "                  margin=dict(r=0, l=0, b=0, t=0, pad=0),\n",
    "                  scene_dragmode=\"orbit\",\n",
    "                  scene_camera=camera,\n",
    "                  updatemenus=[dict(buttons=buttons, x=0.1, y=1)],\n",
    "                  showlegend=False)"
   ]
  },
  {
   "cell_type": "code",
   "execution_count": null,
   "metadata": {},
   "outputs": [],
   "source": [
    "# Save figure\n",
    "pio.write_html(fig,\n",
    "               file='../_includes/figures/cup.html',\n",
    "               full_html=False,\n",
    "               include_plotlyjs='cdn')"
   ]
  },
  {
   "cell_type": "markdown",
   "metadata": {},
   "source": [
    "## 2. Train MASK R-CNN from Detectron2 on cup data"
   ]
  },
  {
   "cell_type": "code",
   "execution_count": null,
   "metadata": {},
   "outputs": [],
   "source": [
    "import os\n",
    "import random\n",
    "import yaml\n",
    "import cv2\n",
    "import matplotlib.pyplot as plt\n",
    "from detectron2.data import DatasetCatalog, MetadataCatalog\n",
    "from detectron2.data.datasets import load_coco_json, register_coco_instances\n",
    "from detectron2.engine import DefaultTrainer, DefaultPredictor\n",
    "from detectron2.config import get_cfg\n",
    "from detectron2.utils.visualizer import Visualizer, ColorMode"
   ]
  },
  {
   "cell_type": "code",
   "execution_count": null,
   "metadata": {},
   "outputs": [],
   "source": [
    "# Setup\n",
    "path_to_coco_json = \"/path/to/blenderproc/coco_annotations.json\"\n",
    "path_to_images = \"/path/to/blenderproc/images/coco_data\"\n",
    "path_to_config_yaml = \"/path/to/detectron2/config/mask_rcnn_R_50_FPN_3x.yaml\"\n",
    "\n",
    "# Use this for training. Use the below two lines instead for inference if you want \"cup\" as label instead of \"1\".\n",
    "register_coco_instances(\"cup\", {}, path_to_coco_json, path_to_images)\n",
    "# DatasetCatalog.register(\"cup\", lambda: load_coco_json(path_to_coco_json, path_to_images))\n",
    "# MetadataCatalog.get(\"cup\").set(thing_classes=[\"cup\"], json_file=path_to_coco_json, image_root=path_to_images)"
   ]
  },
  {
   "cell_type": "code",
   "execution_count": null,
   "metadata": {},
   "outputs": [],
   "source": [
    "# Config settings\n",
    "cfg = get_cfg()\n",
    "cfg.merge_from_file(path_to_config_yaml)\n",
    "cfg.INPUT.MASK_FORMAT=\"bitmask\"  # Standard output format of BlenderProc\n",
    "cfg.DATASETS.TRAIN = (\"cup\",)\n",
    "cfg.DATASETS.TEST = ()\n",
    "cfg.DATALOADER.NUM_WORKERS = 8\n",
    "# initialize from model zoo\n",
    "cfg.MODEL.WEIGHTS = \"detectron2://COCO-InstanceSegmentation/mask_rcnn_R_50_FPN_3x/137849600/model_final_f10217.pkl\"\n",
    "cfg.SOLVER.IMS_PER_BATCH = 4\n",
    "cfg.SOLVER.BASE_LR = 0.0025\n",
    "cfg.SOLVER.MAX_ITER = 300\n",
    "cfg.MODEL.ROI_HEADS.NUM_CLASSES = 1\n",
    "os.makedirs(cfg.OUTPUT_DIR, exist_ok=True)"
   ]
  },
  {
   "cell_type": "code",
   "execution_count": null,
   "metadata": {},
   "outputs": [],
   "source": [
    "# Train model\n",
    "trainer = DefaultTrainer(cfg)\n",
    "trainer.resume_or_load(resume=False)\n",
    "trainer.train()"
   ]
  },
  {
   "cell_type": "code",
   "execution_count": null,
   "metadata": {},
   "outputs": [],
   "source": [
    "# Load trained weights and run inference (on train data; just for visualization)\n",
    "cfg.MODEL.WEIGHTS = os.path.join(cfg.OUTPUT_DIR, \"model_final.pth\")\n",
    "cfg.MODEL.ROI_HEADS.SCORE_THRESH_TEST = 0.5  # set the testing threshold for this model\n",
    "cfg.DATASETS.TEST = (\"cup\",)\n",
    "predictor = DefaultPredictor(cfg)\n",
    "\n",
    "metadata = MetadataCatalog.get(\"cup\")\n",
    "dataset_dicts = DatasetCatalog.get(\"cup\")\n",
    "figure, axes = plt.subplots(1, 3, figsize=(16, 16), tight_layout=True)\n",
    "axes = axes.tolist()\n",
    "for d in random.sample(dataset_dicts, 3):    \n",
    "    im = cv2.imread(d[\"file_name\"])\n",
    "    outputs = predictor(im)\n",
    "    v = Visualizer(im[:, :, ::-1],\n",
    "                   metadata=metadata, \n",
    "                   instance_mode=ColorMode.IMAGE_BW   # remove the colors of unsegmented pixels\n",
    "    )\n",
    "    v = v.draw_instance_predictions(outputs[\"instances\"].to(\"cpu\"))\n",
    "    axis = axes.pop()\n",
    "    axis.imshow(v.get_image())\n",
    "    axis.axis('off')\n",
    "plt.show()"
   ]
  }
 ],
 "metadata": {
  "kernelspec": {
   "display_name": "Python 3",
   "language": "python",
   "name": "python3"
  },
  "language_info": {
   "codemirror_mode": {
    "name": "ipython",
    "version": 3
   },
   "file_extension": ".py",
   "mimetype": "text/x-python",
   "name": "python",
   "nbconvert_exporter": "python",
   "pygments_lexer": "ipython3",
   "version": "3.8.8"
  }
 },
 "nbformat": 4,
 "nbformat_minor": 4
}
