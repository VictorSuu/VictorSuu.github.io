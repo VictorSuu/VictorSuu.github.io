{
 "cells": [
  {
   "cell_type": "code",
   "execution_count": null,
   "id": "8afdc7f0",
   "metadata": {},
   "outputs": [],
   "source": [
    "import numpy as np\n",
    "from PIL import Image\n",
    "import plotly.graph_objects as go\n",
    "import plotly.io as pio"
   ]
  },
  {
   "cell_type": "code",
   "execution_count": null,
   "id": "38c35277",
   "metadata": {},
   "outputs": [],
   "source": [
    "def load_data(size=64):\n",
    "    # Load image, resize, make monochrome (black and white) copy and convert to Numpy array\n",
    "    image_rgb = Image.open(\"../images/afghan_girl.jpg\").resize([size, size])\n",
    "    image_bw = image_rgb.convert('L')\n",
    "    image_rgb = np.asarray(image_rgb)\n",
    "    image_bw = np.asarray(image_bw)\n",
    "\n",
    "    # Get size and color info\n",
    "    height, width, channels = image_rgb.shape\n",
    "    colors = np.array([f\"rgb{rgb[0], rgb[1], rgb[2]}\" for rgb in image_rgb.reshape(-1, 3)])\n",
    "    values = image_bw.reshape(-1).astype(str)\n",
    "\n",
    "    # Make grid to paint colors (or pixel values) on\n",
    "    x, y = np.meshgrid(np.arange(width), np.arange(height))\n",
    "    flat_x, flat_y = x.reshape(-1), y.reshape(-1)\n",
    "\n",
    "    red = np.array([rgb[0] for rgb in image_rgb.reshape(-1, 3)]).astype(str)\n",
    "    green = np.array([rgb[1] for rgb in image_rgb.reshape(-1, 3)]).astype(str)\n",
    "    blue = np.array([rgb[2] for rgb in image_rgb.reshape(-1, 3)]).astype(str)\n",
    "    \n",
    "    return {\"rgb\": image_rgb,\n",
    "            \"mono\": image_bw,\n",
    "            \"x\": flat_x,\n",
    "            \"y\": flat_y,\n",
    "            \"colors\": colors,\n",
    "            \"values\": values,\n",
    "            \"red\": red,\n",
    "            \"green\": green,\n",
    "            \"blue\": blue}"
   ]
  },
  {
   "cell_type": "code",
   "execution_count": null,
   "id": "c67abaa2",
   "metadata": {},
   "outputs": [],
   "source": [
    "data = load_data(size=128)\n",
    "red, green, blue = data[\"red\"], data[\"green\"], data[\"blue\"]\n",
    "x, y = data[\"x\"], data[\"y\"]\n",
    "color = data[\"colors\"]\n",
    "\n",
    "fig = go.Figure(go.Scattergl(x=x,\n",
    "                             y=y,\n",
    "                             mode='markers',\n",
    "                             marker=dict(size=10,\n",
    "                                         color=color,\n",
    "                                         symbol=\"square\"),\n",
    "                             hovertemplate=\"<b>Pixel:</b> %{x}, %{y}<br>\"+\n",
    "                                           \"<b>Color:</b> %{marker.color}<extra></extra>\",\n",
    "                             hoverlabel=dict(bgcolor=color),\n",
    "                             showlegend=False))\n",
    "\n",
    "fig.update_layout(template=\"plotly_white\",\n",
    "                  xaxis=dict(constrain=\"domain\",\n",
    "                             visible=False,\n",
    "                             range=[50, 80]),\n",
    "                  yaxis=dict(scaleanchor='x',\n",
    "                             visible=False,\n",
    "                             range=[80, 50]),\n",
    "                  hoverlabel=dict(font_size=18),\n",
    "                  height=700,\n",
    "                  margin=dict(r=0, l=0, b=0, t=0, pad=0))"
   ]
  },
  {
   "cell_type": "code",
   "execution_count": null,
   "id": "53e1f13f",
   "metadata": {},
   "outputs": [],
   "source": [
    "# Save figure\n",
    "pio.write_html(fig,\n",
    "               file='../_includes/figures/image_zoomed.html',\n",
    "               full_html=False,\n",
    "               include_plotlyjs='cdn')"
   ]
  },
  {
   "cell_type": "code",
   "execution_count": null,
   "id": "5e6ee18d",
   "metadata": {},
   "outputs": [],
   "source": []
  }
 ],
 "metadata": {
  "kernelspec": {
   "display_name": "Python 3",
   "language": "python",
   "name": "python3"
  },
  "language_info": {
   "codemirror_mode": {
    "name": "ipython",
    "version": 3
   },
   "file_extension": ".py",
   "mimetype": "text/x-python",
   "name": "python",
   "nbconvert_exporter": "python",
   "pygments_lexer": "ipython3",
   "version": "3.8.8"
  }
 },
 "nbformat": 4,
 "nbformat_minor": 5
}
