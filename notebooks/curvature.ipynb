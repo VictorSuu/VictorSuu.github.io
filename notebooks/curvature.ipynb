{
 "cells": [
  {
   "cell_type": "markdown",
   "metadata": {},
   "source": [
    "# Code: Laplace Approximation for Bayesian Deep Learning"
   ]
  },
  {
   "cell_type": "code",
   "execution_count": 1,
   "metadata": {},
   "outputs": [],
   "source": [
    "import sys\n",
    "import numpy as np\n",
    "from statsmodels.distributions.empirical_distribution import ECDF\n",
    "import plotly.graph_objects as go\n",
    "import plotly.io as pio\n",
    "import plotly.figure_factory as ff\n",
    "from plotly.colors import DEFAULT_PLOTLY_COLORS"
   ]
  },
  {
   "cell_type": "code",
   "execution_count": 2,
   "metadata": {},
   "outputs": [],
   "source": [
    "resnets = [\"resnet18\", \"resnet34\", \"resnet50\", \"resnet101\", \"resnet152\"]\n",
    "new_resnets = [\"wide_resnet50_2\", \"wide_resnet101_2\", \"resnext50_32x4d\", \"resnext101_32x8d\"]\n",
    "densenets = [\"densenet121\", \"densenet161\", \"densenet169\", \"densenet201\"]\n",
    "vggs = [\"vgg11\", \"vgg13\", \"vgg16\", \"vgg19\"]\n",
    "small = [\"alexnet\", \"shufflenet_v2_x1_0\", \"mobilenet_v2\", \"squeezenet1_1\", \"mnasnet1_0\"]\n",
    "inception = [\"googlenet\", \"inception_v3\"]\n",
    "\n",
    "all_models = resnets + new_resnets + densenets + vggs + small + inception"
   ]
  },
  {
   "cell_type": "code",
   "execution_count": 3,
   "metadata": {},
   "outputs": [],
   "source": [
    "def logit(p):\n",
    "    return np.log(np.asarray(p)) - np.log(1 - np.asarray(p))"
   ]
  },
  {
   "cell_type": "code",
   "execution_count": 34,
   "metadata": {},
   "outputs": [],
   "source": [
    "def get_data(model, data, estimator, plot, reload=False):\n",
    "    filename = f\"{model}_{data}_{estimator}_{plot}\"\n",
    "    path = f\"/home/humt_ma/Git/hummat.github.io/data/{filename}.npy\"\n",
    "    try:\n",
    "        if reload:\n",
    "            raise FileNotFoundError\n",
    "        return np.load(path, allow_pickle=True).item()\n",
    "    except FileNotFoundError:\n",
    "        sys.path.append(\"/home/humt_ma/Git/curvature\")\n",
    "        from curvature.utils import expected_calibration_error, calibration_curve, predictive_entropy\n",
    "\n",
    "        data = np.load(f\"/volume/USERSTORE/humt_ma/{model}/data/{estimator}/{model}_{data}.npz\")\n",
    "        labels, probabilities, bnn_probabilities = data[\"labels\"], data[\"predictions\"], data[\"bnn_predictions\"]\n",
    "        ood_probabilities, bnn_ood_probabilities = data[\"ood_predictions\"], data[\"bnn_ood_predictions\"]\n",
    "        \n",
    "        if plot in [\"reliability\", \"calibration\"]:\n",
    "            if plot == \"reliability\":\n",
    "                ece, aces, accs, confs = expected_calibration_error(probabilities, labels)\n",
    "                bnn_ece, bnn_aces, bnn_accs, bnn_confs = expected_calibration_error(bnn_probabilities, labels)\n",
    "            elif plot == \"calibration\":\n",
    "                ece, confs, accs, _ = calibration_curve(probabilities, labels)\n",
    "                bnn_ece, bnn_confs, bnn_accs, _ = calibration_curve(bnn_probabilities, labels)\n",
    "                aces = confs - accs\n",
    "                bnn_aces = bnn_confs - bnn_accs\n",
    "            acc = 100 * np.mean(np.argmax(probabilities, axis=1) == labels)\n",
    "            bnn_acc = 100 * np.mean(np.argmax(bnn_probabilities, axis=1) == labels)\n",
    "\n",
    "            np.save(path,\n",
    "                   {\"acc\": acc,\n",
    "                    \"ece\": ece,\n",
    "                    \"aces\": aces,\n",
    "                    \"accs\": accs,\n",
    "                    \"confs\": confs,\n",
    "                    \"bnn_acc\": bnn_acc,\n",
    "                    \"bnn_ece\": bnn_ece,\n",
    "                    \"bnn_aces\": bnn_aces,\n",
    "                    \"bnn_accs\": bnn_accs,\n",
    "                    \"bnn_confs\": bnn_confs})\n",
    "        elif plot == \"entropy\":\n",
    "            np.save(path, {\"num_classes\": probabilities.shape[1],\n",
    "                           \"pred_ent\": predictive_entropy(probabilities),\n",
    "                           \"bnn_pred_ent\": predictive_entropy(bnn_probabilities),\n",
    "                           \"ood_pred_ent\": predictive_entropy(ood_probabilities),\n",
    "                           \"bnn_ood_pred_ent\": predictive_entropy(bnn_ood_probabilities)})\n",
    "\n",
    "        return np.load(path, allow_pickle=True).item()"
   ]
  },
  {
   "cell_type": "code",
   "execution_count": null,
   "metadata": {},
   "outputs": [],
   "source": [
    "# Preprocess data\n",
    "for model in all_models:\n",
    "    for estimator in [\"diag\", \"kfac\", \"efb\"]:\n",
    "        for plot in [\"reliability\", \"calibration\", \"entropy\"]:\n",
    "            try:\n",
    "                get_data(model, \"imagenet\", estimator, plot, reload=False)\n",
    "            except FileNotFoundError:\n",
    "                print(f\"No data for {model}, {estimator}, {plot}.\")"
   ]
  },
  {
   "cell_type": "markdown",
   "metadata": {},
   "source": [
    "## Reliability diagram"
   ]
  },
  {
   "cell_type": "code",
   "execution_count": 195,
   "metadata": {},
   "outputs": [
    {
     "data": {
      "application/vnd.plotly.v1+json": {
       "config": {
        "plotlyServerURL": "https://plot.ly"
       },
       "data": [
        {
         "hoverinfo": "text",
         "hovertext": [
          "8.89%",
          "15.65%",
          "25.58%",
          "35.21%",
          "42.49%",
          "55.20%",
          "59.60%",
          "72.17%",
          "80.71%",
          "95.43%"
         ],
         "marker": {
          "line": {
           "color": "black",
           "width": 1
          }
         },
         "name": "Accuracy | Avg.: 74.29%",
         "type": "bar",
         "width": 0.1,
         "x": [
          0.05,
          0.15000000000000002,
          0.25,
          0.35000000000000003,
          0.45,
          0.55,
          0.6500000000000001,
          0.7500000000000001,
          0.8500000000000001,
          0.9500000000000001,
          1.05
         ],
         "y": [
          0.08888888888888889,
          0.1565217391304348,
          0.2558139534883721,
          0.35214285714285715,
          0.4248927038626609,
          0.552012545739676,
          0.5959654178674352,
          0.7217254076801684,
          0.8070739549839229,
          0.954293284756148
         ]
        },
        {
         "hoverinfo": "text",
         "hovertext": [
          "-1.06%",
          "-0.04%",
          "-0.33%",
          "-0.05%",
          "2.76%",
          "-0.19%",
          "5.39%",
          "2.98%",
          "4.70%",
          "2.42%"
         ],
         "marker": {
          "color": "rgba(255, 0, 0, 0.5)",
          "line": {
           "color": "crimson",
           "width": 1
          }
         },
         "name": "ACE | ECE: 2.45%",
         "type": "bar",
         "width": 0.1,
         "x": [
          0.05,
          0.15000000000000002,
          0.25,
          0.35000000000000003,
          0.45,
          0.55,
          0.6500000000000001,
          0.7500000000000001,
          0.8500000000000001,
          0.9500000000000001,
          1.05
         ],
         "y": [
          -0.010599119298987922,
          -0.0003658548645351367,
          -0.0032846005850060145,
          -0.0005028711046491385,
          0.02759059253168722,
          -0.0018514820685638922,
          0.05389401053832654,
          0.02983432666431407,
          0.04698746974828538,
          0.02415945734361391
         ]
        },
        {
         "hoverinfo": "none",
         "line": {
          "dash": "dash",
          "width": 1
         },
         "marker": {
          "color": "black"
         },
         "mode": "lines",
         "name": "Perfect calibration",
         "type": "scatter",
         "x": [
          0,
          0.5,
          1
         ],
         "y": [
          0,
          0.5,
          1
         ]
        }
       ],
       "layout": {
        "barmode": "stack",
        "height": 700,
        "hoverlabel": {
         "font": {
          "size": 18
         }
        },
        "hovermode": "x",
        "legend": {
         "bgcolor": "rgba(0, 0, 0, 0)",
         "bordercolor": "rgba(0, 0, 0, 0)",
         "font": {
          "size": 16
         },
         "traceorder": "normal",
         "x": 0.08,
         "y": 0.98
        },
        "margin": {
         "b": 0,
         "l": 0,
         "pad": 0,
         "r": 0,
         "t": 0
        },
        "template": {
         "data": {
          "bar": [
           {
            "error_x": {
             "color": "#2a3f5f"
            },
            "error_y": {
             "color": "#2a3f5f"
            },
            "marker": {
             "line": {
              "color": "white",
              "width": 0.5
             }
            },
            "type": "bar"
           }
          ],
          "barpolar": [
           {
            "marker": {
             "line": {
              "color": "white",
              "width": 0.5
             }
            },
            "type": "barpolar"
           }
          ],
          "carpet": [
           {
            "aaxis": {
             "endlinecolor": "#2a3f5f",
             "gridcolor": "#C8D4E3",
             "linecolor": "#C8D4E3",
             "minorgridcolor": "#C8D4E3",
             "startlinecolor": "#2a3f5f"
            },
            "baxis": {
             "endlinecolor": "#2a3f5f",
             "gridcolor": "#C8D4E3",
             "linecolor": "#C8D4E3",
             "minorgridcolor": "#C8D4E3",
             "startlinecolor": "#2a3f5f"
            },
            "type": "carpet"
           }
          ],
          "choropleth": [
           {
            "colorbar": {
             "outlinewidth": 0,
             "ticks": ""
            },
            "type": "choropleth"
           }
          ],
          "contour": [
           {
            "colorbar": {
             "outlinewidth": 0,
             "ticks": ""
            },
            "colorscale": [
             [
              0,
              "#0d0887"
             ],
             [
              0.1111111111111111,
              "#46039f"
             ],
             [
              0.2222222222222222,
              "#7201a8"
             ],
             [
              0.3333333333333333,
              "#9c179e"
             ],
             [
              0.4444444444444444,
              "#bd3786"
             ],
             [
              0.5555555555555556,
              "#d8576b"
             ],
             [
              0.6666666666666666,
              "#ed7953"
             ],
             [
              0.7777777777777778,
              "#fb9f3a"
             ],
             [
              0.8888888888888888,
              "#fdca26"
             ],
             [
              1,
              "#f0f921"
             ]
            ],
            "type": "contour"
           }
          ],
          "contourcarpet": [
           {
            "colorbar": {
             "outlinewidth": 0,
             "ticks": ""
            },
            "type": "contourcarpet"
           }
          ],
          "heatmap": [
           {
            "colorbar": {
             "outlinewidth": 0,
             "ticks": ""
            },
            "colorscale": [
             [
              0,
              "#0d0887"
             ],
             [
              0.1111111111111111,
              "#46039f"
             ],
             [
              0.2222222222222222,
              "#7201a8"
             ],
             [
              0.3333333333333333,
              "#9c179e"
             ],
             [
              0.4444444444444444,
              "#bd3786"
             ],
             [
              0.5555555555555556,
              "#d8576b"
             ],
             [
              0.6666666666666666,
              "#ed7953"
             ],
             [
              0.7777777777777778,
              "#fb9f3a"
             ],
             [
              0.8888888888888888,
              "#fdca26"
             ],
             [
              1,
              "#f0f921"
             ]
            ],
            "type": "heatmap"
           }
          ],
          "heatmapgl": [
           {
            "colorbar": {
             "outlinewidth": 0,
             "ticks": ""
            },
            "colorscale": [
             [
              0,
              "#0d0887"
             ],
             [
              0.1111111111111111,
              "#46039f"
             ],
             [
              0.2222222222222222,
              "#7201a8"
             ],
             [
              0.3333333333333333,
              "#9c179e"
             ],
             [
              0.4444444444444444,
              "#bd3786"
             ],
             [
              0.5555555555555556,
              "#d8576b"
             ],
             [
              0.6666666666666666,
              "#ed7953"
             ],
             [
              0.7777777777777778,
              "#fb9f3a"
             ],
             [
              0.8888888888888888,
              "#fdca26"
             ],
             [
              1,
              "#f0f921"
             ]
            ],
            "type": "heatmapgl"
           }
          ],
          "histogram": [
           {
            "marker": {
             "colorbar": {
              "outlinewidth": 0,
              "ticks": ""
             }
            },
            "type": "histogram"
           }
          ],
          "histogram2d": [
           {
            "colorbar": {
             "outlinewidth": 0,
             "ticks": ""
            },
            "colorscale": [
             [
              0,
              "#0d0887"
             ],
             [
              0.1111111111111111,
              "#46039f"
             ],
             [
              0.2222222222222222,
              "#7201a8"
             ],
             [
              0.3333333333333333,
              "#9c179e"
             ],
             [
              0.4444444444444444,
              "#bd3786"
             ],
             [
              0.5555555555555556,
              "#d8576b"
             ],
             [
              0.6666666666666666,
              "#ed7953"
             ],
             [
              0.7777777777777778,
              "#fb9f3a"
             ],
             [
              0.8888888888888888,
              "#fdca26"
             ],
             [
              1,
              "#f0f921"
             ]
            ],
            "type": "histogram2d"
           }
          ],
          "histogram2dcontour": [
           {
            "colorbar": {
             "outlinewidth": 0,
             "ticks": ""
            },
            "colorscale": [
             [
              0,
              "#0d0887"
             ],
             [
              0.1111111111111111,
              "#46039f"
             ],
             [
              0.2222222222222222,
              "#7201a8"
             ],
             [
              0.3333333333333333,
              "#9c179e"
             ],
             [
              0.4444444444444444,
              "#bd3786"
             ],
             [
              0.5555555555555556,
              "#d8576b"
             ],
             [
              0.6666666666666666,
              "#ed7953"
             ],
             [
              0.7777777777777778,
              "#fb9f3a"
             ],
             [
              0.8888888888888888,
              "#fdca26"
             ],
             [
              1,
              "#f0f921"
             ]
            ],
            "type": "histogram2dcontour"
           }
          ],
          "mesh3d": [
           {
            "colorbar": {
             "outlinewidth": 0,
             "ticks": ""
            },
            "type": "mesh3d"
           }
          ],
          "parcoords": [
           {
            "line": {
             "colorbar": {
              "outlinewidth": 0,
              "ticks": ""
             }
            },
            "type": "parcoords"
           }
          ],
          "pie": [
           {
            "automargin": true,
            "type": "pie"
           }
          ],
          "scatter": [
           {
            "marker": {
             "colorbar": {
              "outlinewidth": 0,
              "ticks": ""
             }
            },
            "type": "scatter"
           }
          ],
          "scatter3d": [
           {
            "line": {
             "colorbar": {
              "outlinewidth": 0,
              "ticks": ""
             }
            },
            "marker": {
             "colorbar": {
              "outlinewidth": 0,
              "ticks": ""
             }
            },
            "type": "scatter3d"
           }
          ],
          "scattercarpet": [
           {
            "marker": {
             "colorbar": {
              "outlinewidth": 0,
              "ticks": ""
             }
            },
            "type": "scattercarpet"
           }
          ],
          "scattergeo": [
           {
            "marker": {
             "colorbar": {
              "outlinewidth": 0,
              "ticks": ""
             }
            },
            "type": "scattergeo"
           }
          ],
          "scattergl": [
           {
            "marker": {
             "colorbar": {
              "outlinewidth": 0,
              "ticks": ""
             }
            },
            "type": "scattergl"
           }
          ],
          "scattermapbox": [
           {
            "marker": {
             "colorbar": {
              "outlinewidth": 0,
              "ticks": ""
             }
            },
            "type": "scattermapbox"
           }
          ],
          "scatterpolar": [
           {
            "marker": {
             "colorbar": {
              "outlinewidth": 0,
              "ticks": ""
             }
            },
            "type": "scatterpolar"
           }
          ],
          "scatterpolargl": [
           {
            "marker": {
             "colorbar": {
              "outlinewidth": 0,
              "ticks": ""
             }
            },
            "type": "scatterpolargl"
           }
          ],
          "scatterternary": [
           {
            "marker": {
             "colorbar": {
              "outlinewidth": 0,
              "ticks": ""
             }
            },
            "type": "scatterternary"
           }
          ],
          "surface": [
           {
            "colorbar": {
             "outlinewidth": 0,
             "ticks": ""
            },
            "colorscale": [
             [
              0,
              "#0d0887"
             ],
             [
              0.1111111111111111,
              "#46039f"
             ],
             [
              0.2222222222222222,
              "#7201a8"
             ],
             [
              0.3333333333333333,
              "#9c179e"
             ],
             [
              0.4444444444444444,
              "#bd3786"
             ],
             [
              0.5555555555555556,
              "#d8576b"
             ],
             [
              0.6666666666666666,
              "#ed7953"
             ],
             [
              0.7777777777777778,
              "#fb9f3a"
             ],
             [
              0.8888888888888888,
              "#fdca26"
             ],
             [
              1,
              "#f0f921"
             ]
            ],
            "type": "surface"
           }
          ],
          "table": [
           {
            "cells": {
             "fill": {
              "color": "#EBF0F8"
             },
             "line": {
              "color": "white"
             }
            },
            "header": {
             "fill": {
              "color": "#C8D4E3"
             },
             "line": {
              "color": "white"
             }
            },
            "type": "table"
           }
          ]
         },
         "layout": {
          "annotationdefaults": {
           "arrowcolor": "#2a3f5f",
           "arrowhead": 0,
           "arrowwidth": 1
          },
          "coloraxis": {
           "colorbar": {
            "outlinewidth": 0,
            "ticks": ""
           }
          },
          "colorscale": {
           "diverging": [
            [
             0,
             "#8e0152"
            ],
            [
             0.1,
             "#c51b7d"
            ],
            [
             0.2,
             "#de77ae"
            ],
            [
             0.3,
             "#f1b6da"
            ],
            [
             0.4,
             "#fde0ef"
            ],
            [
             0.5,
             "#f7f7f7"
            ],
            [
             0.6,
             "#e6f5d0"
            ],
            [
             0.7,
             "#b8e186"
            ],
            [
             0.8,
             "#7fbc41"
            ],
            [
             0.9,
             "#4d9221"
            ],
            [
             1,
             "#276419"
            ]
           ],
           "sequential": [
            [
             0,
             "#0d0887"
            ],
            [
             0.1111111111111111,
             "#46039f"
            ],
            [
             0.2222222222222222,
             "#7201a8"
            ],
            [
             0.3333333333333333,
             "#9c179e"
            ],
            [
             0.4444444444444444,
             "#bd3786"
            ],
            [
             0.5555555555555556,
             "#d8576b"
            ],
            [
             0.6666666666666666,
             "#ed7953"
            ],
            [
             0.7777777777777778,
             "#fb9f3a"
            ],
            [
             0.8888888888888888,
             "#fdca26"
            ],
            [
             1,
             "#f0f921"
            ]
           ],
           "sequentialminus": [
            [
             0,
             "#0d0887"
            ],
            [
             0.1111111111111111,
             "#46039f"
            ],
            [
             0.2222222222222222,
             "#7201a8"
            ],
            [
             0.3333333333333333,
             "#9c179e"
            ],
            [
             0.4444444444444444,
             "#bd3786"
            ],
            [
             0.5555555555555556,
             "#d8576b"
            ],
            [
             0.6666666666666666,
             "#ed7953"
            ],
            [
             0.7777777777777778,
             "#fb9f3a"
            ],
            [
             0.8888888888888888,
             "#fdca26"
            ],
            [
             1,
             "#f0f921"
            ]
           ]
          },
          "colorway": [
           "#636efa",
           "#EF553B",
           "#00cc96",
           "#ab63fa",
           "#FFA15A",
           "#19d3f3",
           "#FF6692",
           "#B6E880",
           "#FF97FF",
           "#FECB52"
          ],
          "font": {
           "color": "#2a3f5f"
          },
          "geo": {
           "bgcolor": "white",
           "lakecolor": "white",
           "landcolor": "white",
           "showlakes": true,
           "showland": true,
           "subunitcolor": "#C8D4E3"
          },
          "hoverlabel": {
           "align": "left"
          },
          "hovermode": "closest",
          "mapbox": {
           "style": "light"
          },
          "paper_bgcolor": "white",
          "plot_bgcolor": "white",
          "polar": {
           "angularaxis": {
            "gridcolor": "#EBF0F8",
            "linecolor": "#EBF0F8",
            "ticks": ""
           },
           "bgcolor": "white",
           "radialaxis": {
            "gridcolor": "#EBF0F8",
            "linecolor": "#EBF0F8",
            "ticks": ""
           }
          },
          "scene": {
           "xaxis": {
            "backgroundcolor": "white",
            "gridcolor": "#DFE8F3",
            "gridwidth": 2,
            "linecolor": "#EBF0F8",
            "showbackground": true,
            "ticks": "",
            "zerolinecolor": "#EBF0F8"
           },
           "yaxis": {
            "backgroundcolor": "white",
            "gridcolor": "#DFE8F3",
            "gridwidth": 2,
            "linecolor": "#EBF0F8",
            "showbackground": true,
            "ticks": "",
            "zerolinecolor": "#EBF0F8"
           },
           "zaxis": {
            "backgroundcolor": "white",
            "gridcolor": "#DFE8F3",
            "gridwidth": 2,
            "linecolor": "#EBF0F8",
            "showbackground": true,
            "ticks": "",
            "zerolinecolor": "#EBF0F8"
           }
          },
          "shapedefaults": {
           "line": {
            "color": "#2a3f5f"
           }
          },
          "ternary": {
           "aaxis": {
            "gridcolor": "#DFE8F3",
            "linecolor": "#A2B1C6",
            "ticks": ""
           },
           "baxis": {
            "gridcolor": "#DFE8F3",
            "linecolor": "#A2B1C6",
            "ticks": ""
           },
           "bgcolor": "white",
           "caxis": {
            "gridcolor": "#DFE8F3",
            "linecolor": "#A2B1C6",
            "ticks": ""
           }
          },
          "title": {
           "x": 0.05
          },
          "xaxis": {
           "automargin": true,
           "gridcolor": "#EBF0F8",
           "linecolor": "#EBF0F8",
           "ticks": "",
           "title": {
            "standoff": 15
           },
           "zerolinecolor": "#EBF0F8",
           "zerolinewidth": 2
          },
          "yaxis": {
           "automargin": true,
           "gridcolor": "#EBF0F8",
           "linecolor": "#EBF0F8",
           "ticks": "",
           "title": {
            "standoff": 15
           },
           "zerolinecolor": "#EBF0F8",
           "zerolinewidth": 2
          }
         }
        },
        "xaxis": {
         "constrain": "domain",
         "range": [
          0,
          1
         ],
         "showgrid": false,
         "tickfont": {
          "size": 14
         },
         "title": {
          "font": {
           "size": 16
          },
          "text": "Confidence"
         },
         "visible": true
        },
        "yaxis": {
         "range": [
          -0.04059911929898792,
          1
         ],
         "scaleanchor": "x",
         "showgrid": false,
         "tickfont": {
          "size": 14
         },
         "title": {
          "font": {
           "size": 16
          },
          "text": "Accuracy"
         },
         "visible": true
        }
       }
      },
      "text/html": [
       "<div>\n",
       "        \n",
       "        \n",
       "            <div id=\"23c5e913-3e6d-4512-871a-950c6acc2e06\" class=\"plotly-graph-div\" style=\"height:700px; width:100%;\"></div>\n",
       "            <script type=\"text/javascript\">\n",
       "                require([\"plotly\"], function(Plotly) {\n",
       "                    window.PLOTLYENV=window.PLOTLYENV || {};\n",
       "                    \n",
       "                if (document.getElementById(\"23c5e913-3e6d-4512-871a-950c6acc2e06\")) {\n",
       "                    Plotly.newPlot(\n",
       "                        '23c5e913-3e6d-4512-871a-950c6acc2e06',\n",
       "                        [{\"hoverinfo\": \"text\", \"hovertext\": [\"8.89%\", \"15.65%\", \"25.58%\", \"35.21%\", \"42.49%\", \"55.20%\", \"59.60%\", \"72.17%\", \"80.71%\", \"95.43%\"], \"marker\": {\"line\": {\"color\": \"black\", \"width\": 1}}, \"name\": \"Accuracy | Avg.: 74.29%\", \"type\": \"bar\", \"width\": 0.1, \"x\": [0.05, 0.15000000000000002, 0.25, 0.35000000000000003, 0.45, 0.55, 0.6500000000000001, 0.7500000000000001, 0.8500000000000001, 0.9500000000000001, 1.05], \"y\": [0.08888888888888889, 0.1565217391304348, 0.2558139534883721, 0.35214285714285715, 0.4248927038626609, 0.552012545739676, 0.5959654178674352, 0.7217254076801684, 0.8070739549839229, 0.954293284756148]}, {\"hoverinfo\": \"text\", \"hovertext\": [\"-1.06%\", \"-0.04%\", \"-0.33%\", \"-0.05%\", \"2.76%\", \"-0.19%\", \"5.39%\", \"2.98%\", \"4.70%\", \"2.42%\"], \"marker\": {\"color\": \"rgba(255, 0, 0, 0.5)\", \"line\": {\"color\": \"crimson\", \"width\": 1}}, \"name\": \"ACE | ECE: 2.45%\", \"type\": \"bar\", \"width\": 0.1, \"x\": [0.05, 0.15000000000000002, 0.25, 0.35000000000000003, 0.45, 0.55, 0.6500000000000001, 0.7500000000000001, 0.8500000000000001, 0.9500000000000001, 1.05], \"y\": [-0.010599119298987922, -0.0003658548645351367, -0.0032846005850060145, -0.0005028711046491385, 0.02759059253168722, -0.0018514820685638922, 0.05389401053832654, 0.02983432666431407, 0.04698746974828538, 0.02415945734361391]}, {\"hoverinfo\": \"none\", \"line\": {\"dash\": \"dash\", \"width\": 1}, \"marker\": {\"color\": \"black\"}, \"mode\": \"lines\", \"name\": \"Perfect calibration\", \"type\": \"scatter\", \"x\": [0, 0.5, 1], \"y\": [0, 0.5, 1]}],\n",
       "                        {\"barmode\": \"stack\", \"height\": 700, \"hoverlabel\": {\"font\": {\"size\": 18}}, \"hovermode\": \"x\", \"legend\": {\"bgcolor\": \"rgba(0, 0, 0, 0)\", \"bordercolor\": \"rgba(0, 0, 0, 0)\", \"font\": {\"size\": 16}, \"traceorder\": \"normal\", \"x\": 0.08, \"y\": 0.98}, \"margin\": {\"b\": 0, \"l\": 0, \"pad\": 0, \"r\": 0, \"t\": 0}, \"template\": {\"data\": {\"bar\": [{\"error_x\": {\"color\": \"#2a3f5f\"}, \"error_y\": {\"color\": \"#2a3f5f\"}, \"marker\": {\"line\": {\"color\": \"white\", \"width\": 0.5}}, \"type\": \"bar\"}], \"barpolar\": [{\"marker\": {\"line\": {\"color\": \"white\", \"width\": 0.5}}, \"type\": \"barpolar\"}], \"carpet\": [{\"aaxis\": {\"endlinecolor\": \"#2a3f5f\", \"gridcolor\": \"#C8D4E3\", \"linecolor\": \"#C8D4E3\", \"minorgridcolor\": \"#C8D4E3\", \"startlinecolor\": \"#2a3f5f\"}, \"baxis\": {\"endlinecolor\": \"#2a3f5f\", \"gridcolor\": \"#C8D4E3\", \"linecolor\": \"#C8D4E3\", \"minorgridcolor\": \"#C8D4E3\", \"startlinecolor\": \"#2a3f5f\"}, \"type\": \"carpet\"}], \"choropleth\": [{\"colorbar\": {\"outlinewidth\": 0, \"ticks\": \"\"}, \"type\": \"choropleth\"}], \"contour\": [{\"colorbar\": {\"outlinewidth\": 0, \"ticks\": \"\"}, \"colorscale\": [[0.0, \"#0d0887\"], [0.1111111111111111, \"#46039f\"], [0.2222222222222222, \"#7201a8\"], [0.3333333333333333, \"#9c179e\"], [0.4444444444444444, \"#bd3786\"], [0.5555555555555556, \"#d8576b\"], [0.6666666666666666, \"#ed7953\"], [0.7777777777777778, \"#fb9f3a\"], [0.8888888888888888, \"#fdca26\"], [1.0, \"#f0f921\"]], \"type\": \"contour\"}], \"contourcarpet\": [{\"colorbar\": {\"outlinewidth\": 0, \"ticks\": \"\"}, \"type\": \"contourcarpet\"}], \"heatmap\": [{\"colorbar\": {\"outlinewidth\": 0, \"ticks\": \"\"}, \"colorscale\": [[0.0, \"#0d0887\"], [0.1111111111111111, \"#46039f\"], [0.2222222222222222, \"#7201a8\"], [0.3333333333333333, \"#9c179e\"], [0.4444444444444444, \"#bd3786\"], [0.5555555555555556, \"#d8576b\"], [0.6666666666666666, \"#ed7953\"], [0.7777777777777778, \"#fb9f3a\"], [0.8888888888888888, \"#fdca26\"], [1.0, \"#f0f921\"]], \"type\": \"heatmap\"}], \"heatmapgl\": [{\"colorbar\": {\"outlinewidth\": 0, \"ticks\": \"\"}, \"colorscale\": [[0.0, \"#0d0887\"], [0.1111111111111111, \"#46039f\"], [0.2222222222222222, \"#7201a8\"], [0.3333333333333333, \"#9c179e\"], [0.4444444444444444, \"#bd3786\"], [0.5555555555555556, \"#d8576b\"], [0.6666666666666666, \"#ed7953\"], [0.7777777777777778, \"#fb9f3a\"], [0.8888888888888888, \"#fdca26\"], [1.0, \"#f0f921\"]], \"type\": \"heatmapgl\"}], \"histogram\": [{\"marker\": {\"colorbar\": {\"outlinewidth\": 0, \"ticks\": \"\"}}, \"type\": \"histogram\"}], \"histogram2d\": [{\"colorbar\": {\"outlinewidth\": 0, \"ticks\": \"\"}, \"colorscale\": [[0.0, \"#0d0887\"], [0.1111111111111111, \"#46039f\"], [0.2222222222222222, \"#7201a8\"], [0.3333333333333333, \"#9c179e\"], [0.4444444444444444, \"#bd3786\"], [0.5555555555555556, \"#d8576b\"], [0.6666666666666666, \"#ed7953\"], [0.7777777777777778, \"#fb9f3a\"], [0.8888888888888888, \"#fdca26\"], [1.0, \"#f0f921\"]], \"type\": \"histogram2d\"}], \"histogram2dcontour\": [{\"colorbar\": {\"outlinewidth\": 0, \"ticks\": \"\"}, \"colorscale\": [[0.0, \"#0d0887\"], [0.1111111111111111, \"#46039f\"], [0.2222222222222222, \"#7201a8\"], [0.3333333333333333, \"#9c179e\"], [0.4444444444444444, \"#bd3786\"], [0.5555555555555556, \"#d8576b\"], [0.6666666666666666, \"#ed7953\"], [0.7777777777777778, \"#fb9f3a\"], [0.8888888888888888, \"#fdca26\"], [1.0, \"#f0f921\"]], \"type\": \"histogram2dcontour\"}], \"mesh3d\": [{\"colorbar\": {\"outlinewidth\": 0, \"ticks\": \"\"}, \"type\": \"mesh3d\"}], \"parcoords\": [{\"line\": {\"colorbar\": {\"outlinewidth\": 0, \"ticks\": \"\"}}, \"type\": \"parcoords\"}], \"pie\": [{\"automargin\": true, \"type\": \"pie\"}], \"scatter\": [{\"marker\": {\"colorbar\": {\"outlinewidth\": 0, \"ticks\": \"\"}}, \"type\": \"scatter\"}], \"scatter3d\": [{\"line\": {\"colorbar\": {\"outlinewidth\": 0, \"ticks\": \"\"}}, \"marker\": {\"colorbar\": {\"outlinewidth\": 0, \"ticks\": \"\"}}, \"type\": \"scatter3d\"}], \"scattercarpet\": [{\"marker\": {\"colorbar\": {\"outlinewidth\": 0, \"ticks\": \"\"}}, \"type\": \"scattercarpet\"}], \"scattergeo\": [{\"marker\": {\"colorbar\": {\"outlinewidth\": 0, \"ticks\": \"\"}}, \"type\": \"scattergeo\"}], \"scattergl\": [{\"marker\": {\"colorbar\": {\"outlinewidth\": 0, \"ticks\": \"\"}}, \"type\": \"scattergl\"}], \"scattermapbox\": [{\"marker\": {\"colorbar\": {\"outlinewidth\": 0, \"ticks\": \"\"}}, \"type\": \"scattermapbox\"}], \"scatterpolar\": [{\"marker\": {\"colorbar\": {\"outlinewidth\": 0, \"ticks\": \"\"}}, \"type\": \"scatterpolar\"}], \"scatterpolargl\": [{\"marker\": {\"colorbar\": {\"outlinewidth\": 0, \"ticks\": \"\"}}, \"type\": \"scatterpolargl\"}], \"scatterternary\": [{\"marker\": {\"colorbar\": {\"outlinewidth\": 0, \"ticks\": \"\"}}, \"type\": \"scatterternary\"}], \"surface\": [{\"colorbar\": {\"outlinewidth\": 0, \"ticks\": \"\"}, \"colorscale\": [[0.0, \"#0d0887\"], [0.1111111111111111, \"#46039f\"], [0.2222222222222222, \"#7201a8\"], [0.3333333333333333, \"#9c179e\"], [0.4444444444444444, \"#bd3786\"], [0.5555555555555556, \"#d8576b\"], [0.6666666666666666, \"#ed7953\"], [0.7777777777777778, \"#fb9f3a\"], [0.8888888888888888, \"#fdca26\"], [1.0, \"#f0f921\"]], \"type\": \"surface\"}], \"table\": [{\"cells\": {\"fill\": {\"color\": \"#EBF0F8\"}, \"line\": {\"color\": \"white\"}}, \"header\": {\"fill\": {\"color\": \"#C8D4E3\"}, \"line\": {\"color\": \"white\"}}, \"type\": \"table\"}]}, \"layout\": {\"annotationdefaults\": {\"arrowcolor\": \"#2a3f5f\", \"arrowhead\": 0, \"arrowwidth\": 1}, \"coloraxis\": {\"colorbar\": {\"outlinewidth\": 0, \"ticks\": \"\"}}, \"colorscale\": {\"diverging\": [[0, \"#8e0152\"], [0.1, \"#c51b7d\"], [0.2, \"#de77ae\"], [0.3, \"#f1b6da\"], [0.4, \"#fde0ef\"], [0.5, \"#f7f7f7\"], [0.6, \"#e6f5d0\"], [0.7, \"#b8e186\"], [0.8, \"#7fbc41\"], [0.9, \"#4d9221\"], [1, \"#276419\"]], \"sequential\": [[0.0, \"#0d0887\"], [0.1111111111111111, \"#46039f\"], [0.2222222222222222, \"#7201a8\"], [0.3333333333333333, \"#9c179e\"], [0.4444444444444444, \"#bd3786\"], [0.5555555555555556, \"#d8576b\"], [0.6666666666666666, \"#ed7953\"], [0.7777777777777778, \"#fb9f3a\"], [0.8888888888888888, \"#fdca26\"], [1.0, \"#f0f921\"]], \"sequentialminus\": [[0.0, \"#0d0887\"], [0.1111111111111111, \"#46039f\"], [0.2222222222222222, \"#7201a8\"], [0.3333333333333333, \"#9c179e\"], [0.4444444444444444, \"#bd3786\"], [0.5555555555555556, \"#d8576b\"], [0.6666666666666666, \"#ed7953\"], [0.7777777777777778, \"#fb9f3a\"], [0.8888888888888888, \"#fdca26\"], [1.0, \"#f0f921\"]]}, \"colorway\": [\"#636efa\", \"#EF553B\", \"#00cc96\", \"#ab63fa\", \"#FFA15A\", \"#19d3f3\", \"#FF6692\", \"#B6E880\", \"#FF97FF\", \"#FECB52\"], \"font\": {\"color\": \"#2a3f5f\"}, \"geo\": {\"bgcolor\": \"white\", \"lakecolor\": \"white\", \"landcolor\": \"white\", \"showlakes\": true, \"showland\": true, \"subunitcolor\": \"#C8D4E3\"}, \"hoverlabel\": {\"align\": \"left\"}, \"hovermode\": \"closest\", \"mapbox\": {\"style\": \"light\"}, \"paper_bgcolor\": \"white\", \"plot_bgcolor\": \"white\", \"polar\": {\"angularaxis\": {\"gridcolor\": \"#EBF0F8\", \"linecolor\": \"#EBF0F8\", \"ticks\": \"\"}, \"bgcolor\": \"white\", \"radialaxis\": {\"gridcolor\": \"#EBF0F8\", \"linecolor\": \"#EBF0F8\", \"ticks\": \"\"}}, \"scene\": {\"xaxis\": {\"backgroundcolor\": \"white\", \"gridcolor\": \"#DFE8F3\", \"gridwidth\": 2, \"linecolor\": \"#EBF0F8\", \"showbackground\": true, \"ticks\": \"\", \"zerolinecolor\": \"#EBF0F8\"}, \"yaxis\": {\"backgroundcolor\": \"white\", \"gridcolor\": \"#DFE8F3\", \"gridwidth\": 2, \"linecolor\": \"#EBF0F8\", \"showbackground\": true, \"ticks\": \"\", \"zerolinecolor\": \"#EBF0F8\"}, \"zaxis\": {\"backgroundcolor\": \"white\", \"gridcolor\": \"#DFE8F3\", \"gridwidth\": 2, \"linecolor\": \"#EBF0F8\", \"showbackground\": true, \"ticks\": \"\", \"zerolinecolor\": \"#EBF0F8\"}}, \"shapedefaults\": {\"line\": {\"color\": \"#2a3f5f\"}}, \"ternary\": {\"aaxis\": {\"gridcolor\": \"#DFE8F3\", \"linecolor\": \"#A2B1C6\", \"ticks\": \"\"}, \"baxis\": {\"gridcolor\": \"#DFE8F3\", \"linecolor\": \"#A2B1C6\", \"ticks\": \"\"}, \"bgcolor\": \"white\", \"caxis\": {\"gridcolor\": \"#DFE8F3\", \"linecolor\": \"#A2B1C6\", \"ticks\": \"\"}}, \"title\": {\"x\": 0.05}, \"xaxis\": {\"automargin\": true, \"gridcolor\": \"#EBF0F8\", \"linecolor\": \"#EBF0F8\", \"ticks\": \"\", \"title\": {\"standoff\": 15}, \"zerolinecolor\": \"#EBF0F8\", \"zerolinewidth\": 2}, \"yaxis\": {\"automargin\": true, \"gridcolor\": \"#EBF0F8\", \"linecolor\": \"#EBF0F8\", \"ticks\": \"\", \"title\": {\"standoff\": 15}, \"zerolinecolor\": \"#EBF0F8\", \"zerolinewidth\": 2}}}, \"xaxis\": {\"constrain\": \"domain\", \"range\": [0, 1], \"showgrid\": false, \"tickfont\": {\"size\": 14}, \"title\": {\"font\": {\"size\": 16}, \"text\": \"Confidence\"}, \"visible\": true}, \"yaxis\": {\"range\": [-0.04059911929898792, 1], \"scaleanchor\": \"x\", \"showgrid\": false, \"tickfont\": {\"size\": 14}, \"title\": {\"font\": {\"size\": 16}, \"text\": \"Accuracy\"}, \"visible\": true}},\n",
       "                        {\"responsive\": true}\n",
       "                    ).then(function(){\n",
       "                            \n",
       "var gd = document.getElementById('23c5e913-3e6d-4512-871a-950c6acc2e06');\n",
       "var x = new MutationObserver(function (mutations, observer) {{\n",
       "        var display = window.getComputedStyle(gd).display;\n",
       "        if (!display || display === 'none') {{\n",
       "            console.log([gd, 'removed!']);\n",
       "            Plotly.purge(gd);\n",
       "            observer.disconnect();\n",
       "        }}\n",
       "}});\n",
       "\n",
       "// Listen for the removal of the full notebook cells\n",
       "var notebookContainer = gd.closest('#notebook-container');\n",
       "if (notebookContainer) {{\n",
       "    x.observe(notebookContainer, {childList: true});\n",
       "}}\n",
       "\n",
       "// Listen for the clearing of the current output cell\n",
       "var outputEl = gd.closest('.output');\n",
       "if (outputEl) {{\n",
       "    x.observe(outputEl, {childList: true});\n",
       "}}\n",
       "\n",
       "                        })\n",
       "                };\n",
       "                });\n",
       "            </script>\n",
       "        </div>"
      ]
     },
     "metadata": {},
     "output_type": "display_data"
    }
   ],
   "source": [
    "# Choose a model from 'all_models' above and an estimator from 'sgd', 'diag', 'efb' or 'kfac'.\n",
    "# 'sgd' is the deterministic NN.\n",
    "model = \"densenet121\"\n",
    "estimator = \"sgd\"\n",
    "\n",
    "data = get_data(model, \"imagenet\", estimator if estimator != \"sgd\" else \"kfac\", plot=\"reliability\")\n",
    "accs = data[\"bnn_accs\"] if estimator != \"sgd\" else data[\"accs\"]\n",
    "aces = data[\"bnn_aces\"] if estimator != \"sgd\" else data[\"aces\"]\n",
    "acc = data[\"bnn_acc\"] if estimator != \"sgd\" else data[\"acc\"]\n",
    "ece = data[\"bnn_ece\"] if estimator != \"sgd\" else data[\"ece\"]\n",
    "\n",
    "x = np.linspace(0.05, 1.05, 11)\n",
    "\n",
    "fig = go.Figure(data=[go.Bar(name=f\"Accuracy | Avg.: {acc:.2f}%\",\n",
    "                             x=x,\n",
    "                             y=accs,\n",
    "                             hoverinfo=\"text\",\n",
    "                             hovertext=[f\"{100 * acc:.2f}%\" for acc in accs],\n",
    "                             width=0.1,\n",
    "                             marker=dict(line=dict(color=\"black\",\n",
    "                                                   width=1))),\n",
    "                      go.Bar(name=f\"ACE | ECE: {100 * ece:.2f}%\",\n",
    "                             x=x,\n",
    "                             y=aces,\n",
    "                             hoverinfo=\"text\",\n",
    "                             hovertext=[f\"{100 * ace:.2f}%\" for ace in aces],\n",
    "                             width=0.1,\n",
    "                             marker=dict(color=\"rgba(255, 0, 0, 0.5)\",\n",
    "                                         line=dict(color=\"crimson\",\n",
    "                                                   width=1))),\n",
    "                      go.Scatter(x=[0, 0.5, 1],\n",
    "                                 y=[0, 0.5, 1],\n",
    "                                 name=\"Perfect calibration\",\n",
    "                                 hoverinfo=\"none\",\n",
    "                                 mode=\"lines\",\n",
    "                                 marker=dict(color=\"black\"),\n",
    "                                 line=dict(dash=\"dash\",\n",
    "                                           width=1))])\n",
    "grid = False\n",
    "visible = True\n",
    "fig.update_layout(\n",
    "    xaxis=dict(\n",
    "        visible=visible,\n",
    "        range=[0, 1],\n",
    "        showgrid=grid,\n",
    "        constrain=\"domain\",\n",
    "        title=\"Confidence\",\n",
    "        titlefont_size=16,\n",
    "        tickfont_size=14),\n",
    "    yaxis=dict(\n",
    "        visible=visible,\n",
    "        range=[aces.min() - 0.03, 1],\n",
    "        showgrid=grid,\n",
    "        scaleanchor=\"x\",\n",
    "        title=\"Accuracy\",\n",
    "        titlefont_size=16,\n",
    "        tickfont_size=14),\n",
    "    legend=dict(\n",
    "        traceorder=\"normal\",\n",
    "        font=dict(size=16),\n",
    "        x=0.08,\n",
    "        y=0.98,\n",
    "        bgcolor='rgba(0, 0, 0, 0)',\n",
    "        bordercolor='rgba(0, 0, 0, 0)'),\n",
    "    barmode=\"stack\",\n",
    "    template=\"plotly_white\",\n",
    "    hoverlabel=dict(font_size=18),\n",
    "    hovermode='x',\n",
    "    height=700,\n",
    "    margin=dict(r=0, l=0, b=0, t=0, pad=0))\n",
    "fig.show()"
   ]
  },
  {
   "cell_type": "code",
   "execution_count": 196,
   "metadata": {},
   "outputs": [],
   "source": [
    "# Save figure\n",
    "filename = f\"{model}_imagenet_{estimator}_reliability\"\n",
    "pio.write_html(fig,\n",
    "               file=f\"../_includes/figures/curvature/{filename}.html\",\n",
    "               full_html=False,\n",
    "               include_plotlyjs='cdn',\n",
    "               config=dict(displayModeBar=False))"
   ]
  },
  {
   "cell_type": "markdown",
   "metadata": {},
   "source": [
    "## Calibration curve"
   ]
  },
  {
   "cell_type": "markdown",
   "metadata": {},
   "source": [
    "### 1. Estimator comparison"
   ]
  },
  {
   "cell_type": "code",
   "execution_count": 188,
   "metadata": {},
   "outputs": [
    {
     "data": {
      "application/vnd.plotly.v1+json": {
       "config": {
        "plotlyServerURL": "https://plot.ly"
       },
       "data": [
        {
         "hoverinfo": "text+name",
         "hovertext": [
          "3.92%",
          "4.37%",
          "6.41%",
          "5.86%",
          "9.27%",
          "10.54%",
          "10.10%",
          "11.15%",
          "8.86%",
          "7.49%",
          "5.78%",
          "5.20%",
          "3.26%",
          "4.11%",
          "2.89%",
          "2.82%",
          "1.70%",
          "1.50%",
          "0.88%",
          "0.89%"
         ],
         "mode": "markers+lines",
         "name": "SGD         |       ECE: 5.33%",
         "type": "scatter",
         "x": [
          -1.2089381653649238,
          -0.47258590651608773,
          -0.03645306290164152,
          0.2956454937451639,
          0.6400445386254072,
          1.0184696837976113,
          1.4113608224402547,
          1.8430921019397597,
          2.324419393829957,
          2.8322114514585426,
          3.36374127855052,
          3.8906521533033502,
          4.461767531527425,
          5.084217771415891,
          5.778743386171167,
          6.536006384051775,
          7.415234799723022,
          8.511042408520828,
          10.113635236547006,
          12.94773561082351
         ],
         "y": [
          0.03915814648971777,
          0.0437321593469962,
          0.064146350187897,
          0.05856582858881065,
          0.09271388884228693,
          0.10537096250015932,
          0.10101812243931607,
          0.11151255346936484,
          0.08862154472201966,
          0.07489625611450046,
          0.05782495934995091,
          0.052034737636272976,
          0.03262498013562498,
          0.04108218627314508,
          0.028942556008658582,
          0.028175530427029583,
          0.017012442447757792,
          0.01501097627518233,
          0.00876652405135081,
          0.008861437900320013
         ]
        },
        {
         "hoverinfo": "text+name",
         "hovertext": [
          "-1.43%",
          "1.06%",
          "0.64%",
          "1.31%",
          "1.64%",
          "3.19%",
          "2.49%",
          "3.58%",
          "4.13%",
          "4.20%",
          "1.40%",
          "1.00%",
          "0.67%",
          "3.17%",
          "2.29%",
          "2.33%",
          "2.29%",
          "1.59%",
          "1.64%",
          "0.59%"
         ],
         "mode": "markers+lines",
         "name": "DIAG        |       ECE: 2.03%",
         "type": "scatter",
         "x": [
          -1.3066381216049194,
          -0.615234375,
          -0.22022461891174316,
          0.0926123857498169,
          0.3856194019317627,
          0.6974685192108154,
          1.0244700908660889,
          1.3688608407974243,
          1.7344717979431152,
          2.12294602394104,
          2.503126382827759,
          2.894002676010132,
          3.272462844848633,
          3.6573429107666016,
          4.149463176727295,
          4.733359336853027,
          5.4466986656188965,
          6.373715400695801,
          7.699570655822754,
          10.056238174438477
         ],
         "y": [
          -0.014331972210096106,
          0.010593861556224937,
          0.006414305529086672,
          0.013128549743404938,
          0.016364627880893545,
          0.031917694857637846,
          0.024873631729709356,
          0.03578690331491874,
          0.04133659582122795,
          0.04203262922761919,
          0.01403242989098008,
          0.009999124263170955,
          0.006706536770630489,
          0.03169344877414082,
          0.02290278095737086,
          0.023305460965757474,
          0.022929766160951215,
          0.015911186571785474,
          0.01636063427424983,
          0.005945108607857574
         ]
        },
        {
         "hoverinfo": "text+name",
         "hovertext": [
          "-1.80%",
          "0.22%",
          "-0.79%",
          "1.31%",
          "-2.15%",
          "-0.31%",
          "0.35%",
          "3.26%",
          "1.81%",
          "2.20%",
          "2.26%",
          "2.21%",
          "2.61%",
          "2.82%",
          "2.41%",
          "1.74%",
          "1.61%",
          "1.19%",
          "1.10%",
          "0.64%"
         ],
         "mode": "markers+lines",
         "name": "KFAC        |       ECE: 1.63%",
         "type": "scatter",
         "x": [
          -1.417542671584723,
          -0.7315174810732383,
          -0.3210744004501904,
          0.0027082312343336135,
          0.2957310286289504,
          0.6128928931078432,
          0.9448602002403965,
          1.305995018869068,
          1.684686991520631,
          2.09745729867575,
          2.533810402115434,
          3.0155419650853923,
          3.5051273077913754,
          4.0343919983528025,
          4.640173718270033,
          5.299725839879172,
          6.06543328443949,
          7.014932051711233,
          8.365444779667683,
          10.79251402604207
         ],
         "y": [
          -0.0179653734877743,
          0.002203688513732871,
          -0.007928743572097052,
          0.013086985337113333,
          -0.021477299606644018,
          -0.003120949758296465,
          0.0035070903723883884,
          0.03263884323124833,
          0.01806380074016989,
          0.021960839982094083,
          0.022555187297268353,
          0.02212642678263743,
          0.02607750046653723,
          0.028247791241894027,
          0.024063228485120214,
          0.017449777577862924,
          0.016098358012819114,
          0.011912687684979106,
          0.01097624786777407,
          0.00639484458851125
         ]
        }
       ],
       "layout": {
        "height": 500,
        "hoverlabel": {
         "font": {
          "size": 18
         }
        },
        "hovermode": "x",
        "legend": {
         "bgcolor": "rgba(0, 0, 0, 0)",
         "bordercolor": "rgba(0, 0, 0, 0)",
         "font": {
          "size": 16
         },
         "traceorder": "normal",
         "xanchor": "right",
         "yanchor": "top"
        },
        "margin": {
         "b": 0,
         "l": 0,
         "pad": 0,
         "r": 0,
         "t": 0
        },
        "template": {
         "data": {
          "bar": [
           {
            "error_x": {
             "color": "#2a3f5f"
            },
            "error_y": {
             "color": "#2a3f5f"
            },
            "marker": {
             "line": {
              "color": "white",
              "width": 0.5
             }
            },
            "type": "bar"
           }
          ],
          "barpolar": [
           {
            "marker": {
             "line": {
              "color": "white",
              "width": 0.5
             }
            },
            "type": "barpolar"
           }
          ],
          "carpet": [
           {
            "aaxis": {
             "endlinecolor": "#2a3f5f",
             "gridcolor": "#C8D4E3",
             "linecolor": "#C8D4E3",
             "minorgridcolor": "#C8D4E3",
             "startlinecolor": "#2a3f5f"
            },
            "baxis": {
             "endlinecolor": "#2a3f5f",
             "gridcolor": "#C8D4E3",
             "linecolor": "#C8D4E3",
             "minorgridcolor": "#C8D4E3",
             "startlinecolor": "#2a3f5f"
            },
            "type": "carpet"
           }
          ],
          "choropleth": [
           {
            "colorbar": {
             "outlinewidth": 0,
             "ticks": ""
            },
            "type": "choropleth"
           }
          ],
          "contour": [
           {
            "colorbar": {
             "outlinewidth": 0,
             "ticks": ""
            },
            "colorscale": [
             [
              0,
              "#0d0887"
             ],
             [
              0.1111111111111111,
              "#46039f"
             ],
             [
              0.2222222222222222,
              "#7201a8"
             ],
             [
              0.3333333333333333,
              "#9c179e"
             ],
             [
              0.4444444444444444,
              "#bd3786"
             ],
             [
              0.5555555555555556,
              "#d8576b"
             ],
             [
              0.6666666666666666,
              "#ed7953"
             ],
             [
              0.7777777777777778,
              "#fb9f3a"
             ],
             [
              0.8888888888888888,
              "#fdca26"
             ],
             [
              1,
              "#f0f921"
             ]
            ],
            "type": "contour"
           }
          ],
          "contourcarpet": [
           {
            "colorbar": {
             "outlinewidth": 0,
             "ticks": ""
            },
            "type": "contourcarpet"
           }
          ],
          "heatmap": [
           {
            "colorbar": {
             "outlinewidth": 0,
             "ticks": ""
            },
            "colorscale": [
             [
              0,
              "#0d0887"
             ],
             [
              0.1111111111111111,
              "#46039f"
             ],
             [
              0.2222222222222222,
              "#7201a8"
             ],
             [
              0.3333333333333333,
              "#9c179e"
             ],
             [
              0.4444444444444444,
              "#bd3786"
             ],
             [
              0.5555555555555556,
              "#d8576b"
             ],
             [
              0.6666666666666666,
              "#ed7953"
             ],
             [
              0.7777777777777778,
              "#fb9f3a"
             ],
             [
              0.8888888888888888,
              "#fdca26"
             ],
             [
              1,
              "#f0f921"
             ]
            ],
            "type": "heatmap"
           }
          ],
          "heatmapgl": [
           {
            "colorbar": {
             "outlinewidth": 0,
             "ticks": ""
            },
            "colorscale": [
             [
              0,
              "#0d0887"
             ],
             [
              0.1111111111111111,
              "#46039f"
             ],
             [
              0.2222222222222222,
              "#7201a8"
             ],
             [
              0.3333333333333333,
              "#9c179e"
             ],
             [
              0.4444444444444444,
              "#bd3786"
             ],
             [
              0.5555555555555556,
              "#d8576b"
             ],
             [
              0.6666666666666666,
              "#ed7953"
             ],
             [
              0.7777777777777778,
              "#fb9f3a"
             ],
             [
              0.8888888888888888,
              "#fdca26"
             ],
             [
              1,
              "#f0f921"
             ]
            ],
            "type": "heatmapgl"
           }
          ],
          "histogram": [
           {
            "marker": {
             "colorbar": {
              "outlinewidth": 0,
              "ticks": ""
             }
            },
            "type": "histogram"
           }
          ],
          "histogram2d": [
           {
            "colorbar": {
             "outlinewidth": 0,
             "ticks": ""
            },
            "colorscale": [
             [
              0,
              "#0d0887"
             ],
             [
              0.1111111111111111,
              "#46039f"
             ],
             [
              0.2222222222222222,
              "#7201a8"
             ],
             [
              0.3333333333333333,
              "#9c179e"
             ],
             [
              0.4444444444444444,
              "#bd3786"
             ],
             [
              0.5555555555555556,
              "#d8576b"
             ],
             [
              0.6666666666666666,
              "#ed7953"
             ],
             [
              0.7777777777777778,
              "#fb9f3a"
             ],
             [
              0.8888888888888888,
              "#fdca26"
             ],
             [
              1,
              "#f0f921"
             ]
            ],
            "type": "histogram2d"
           }
          ],
          "histogram2dcontour": [
           {
            "colorbar": {
             "outlinewidth": 0,
             "ticks": ""
            },
            "colorscale": [
             [
              0,
              "#0d0887"
             ],
             [
              0.1111111111111111,
              "#46039f"
             ],
             [
              0.2222222222222222,
              "#7201a8"
             ],
             [
              0.3333333333333333,
              "#9c179e"
             ],
             [
              0.4444444444444444,
              "#bd3786"
             ],
             [
              0.5555555555555556,
              "#d8576b"
             ],
             [
              0.6666666666666666,
              "#ed7953"
             ],
             [
              0.7777777777777778,
              "#fb9f3a"
             ],
             [
              0.8888888888888888,
              "#fdca26"
             ],
             [
              1,
              "#f0f921"
             ]
            ],
            "type": "histogram2dcontour"
           }
          ],
          "mesh3d": [
           {
            "colorbar": {
             "outlinewidth": 0,
             "ticks": ""
            },
            "type": "mesh3d"
           }
          ],
          "parcoords": [
           {
            "line": {
             "colorbar": {
              "outlinewidth": 0,
              "ticks": ""
             }
            },
            "type": "parcoords"
           }
          ],
          "pie": [
           {
            "automargin": true,
            "type": "pie"
           }
          ],
          "scatter": [
           {
            "marker": {
             "colorbar": {
              "outlinewidth": 0,
              "ticks": ""
             }
            },
            "type": "scatter"
           }
          ],
          "scatter3d": [
           {
            "line": {
             "colorbar": {
              "outlinewidth": 0,
              "ticks": ""
             }
            },
            "marker": {
             "colorbar": {
              "outlinewidth": 0,
              "ticks": ""
             }
            },
            "type": "scatter3d"
           }
          ],
          "scattercarpet": [
           {
            "marker": {
             "colorbar": {
              "outlinewidth": 0,
              "ticks": ""
             }
            },
            "type": "scattercarpet"
           }
          ],
          "scattergeo": [
           {
            "marker": {
             "colorbar": {
              "outlinewidth": 0,
              "ticks": ""
             }
            },
            "type": "scattergeo"
           }
          ],
          "scattergl": [
           {
            "marker": {
             "colorbar": {
              "outlinewidth": 0,
              "ticks": ""
             }
            },
            "type": "scattergl"
           }
          ],
          "scattermapbox": [
           {
            "marker": {
             "colorbar": {
              "outlinewidth": 0,
              "ticks": ""
             }
            },
            "type": "scattermapbox"
           }
          ],
          "scatterpolar": [
           {
            "marker": {
             "colorbar": {
              "outlinewidth": 0,
              "ticks": ""
             }
            },
            "type": "scatterpolar"
           }
          ],
          "scatterpolargl": [
           {
            "marker": {
             "colorbar": {
              "outlinewidth": 0,
              "ticks": ""
             }
            },
            "type": "scatterpolargl"
           }
          ],
          "scatterternary": [
           {
            "marker": {
             "colorbar": {
              "outlinewidth": 0,
              "ticks": ""
             }
            },
            "type": "scatterternary"
           }
          ],
          "surface": [
           {
            "colorbar": {
             "outlinewidth": 0,
             "ticks": ""
            },
            "colorscale": [
             [
              0,
              "#0d0887"
             ],
             [
              0.1111111111111111,
              "#46039f"
             ],
             [
              0.2222222222222222,
              "#7201a8"
             ],
             [
              0.3333333333333333,
              "#9c179e"
             ],
             [
              0.4444444444444444,
              "#bd3786"
             ],
             [
              0.5555555555555556,
              "#d8576b"
             ],
             [
              0.6666666666666666,
              "#ed7953"
             ],
             [
              0.7777777777777778,
              "#fb9f3a"
             ],
             [
              0.8888888888888888,
              "#fdca26"
             ],
             [
              1,
              "#f0f921"
             ]
            ],
            "type": "surface"
           }
          ],
          "table": [
           {
            "cells": {
             "fill": {
              "color": "#EBF0F8"
             },
             "line": {
              "color": "white"
             }
            },
            "header": {
             "fill": {
              "color": "#C8D4E3"
             },
             "line": {
              "color": "white"
             }
            },
            "type": "table"
           }
          ]
         },
         "layout": {
          "annotationdefaults": {
           "arrowcolor": "#2a3f5f",
           "arrowhead": 0,
           "arrowwidth": 1
          },
          "coloraxis": {
           "colorbar": {
            "outlinewidth": 0,
            "ticks": ""
           }
          },
          "colorscale": {
           "diverging": [
            [
             0,
             "#8e0152"
            ],
            [
             0.1,
             "#c51b7d"
            ],
            [
             0.2,
             "#de77ae"
            ],
            [
             0.3,
             "#f1b6da"
            ],
            [
             0.4,
             "#fde0ef"
            ],
            [
             0.5,
             "#f7f7f7"
            ],
            [
             0.6,
             "#e6f5d0"
            ],
            [
             0.7,
             "#b8e186"
            ],
            [
             0.8,
             "#7fbc41"
            ],
            [
             0.9,
             "#4d9221"
            ],
            [
             1,
             "#276419"
            ]
           ],
           "sequential": [
            [
             0,
             "#0d0887"
            ],
            [
             0.1111111111111111,
             "#46039f"
            ],
            [
             0.2222222222222222,
             "#7201a8"
            ],
            [
             0.3333333333333333,
             "#9c179e"
            ],
            [
             0.4444444444444444,
             "#bd3786"
            ],
            [
             0.5555555555555556,
             "#d8576b"
            ],
            [
             0.6666666666666666,
             "#ed7953"
            ],
            [
             0.7777777777777778,
             "#fb9f3a"
            ],
            [
             0.8888888888888888,
             "#fdca26"
            ],
            [
             1,
             "#f0f921"
            ]
           ],
           "sequentialminus": [
            [
             0,
             "#0d0887"
            ],
            [
             0.1111111111111111,
             "#46039f"
            ],
            [
             0.2222222222222222,
             "#7201a8"
            ],
            [
             0.3333333333333333,
             "#9c179e"
            ],
            [
             0.4444444444444444,
             "#bd3786"
            ],
            [
             0.5555555555555556,
             "#d8576b"
            ],
            [
             0.6666666666666666,
             "#ed7953"
            ],
            [
             0.7777777777777778,
             "#fb9f3a"
            ],
            [
             0.8888888888888888,
             "#fdca26"
            ],
            [
             1,
             "#f0f921"
            ]
           ]
          },
          "colorway": [
           "#636efa",
           "#EF553B",
           "#00cc96",
           "#ab63fa",
           "#FFA15A",
           "#19d3f3",
           "#FF6692",
           "#B6E880",
           "#FF97FF",
           "#FECB52"
          ],
          "font": {
           "color": "#2a3f5f"
          },
          "geo": {
           "bgcolor": "white",
           "lakecolor": "white",
           "landcolor": "white",
           "showlakes": true,
           "showland": true,
           "subunitcolor": "#C8D4E3"
          },
          "hoverlabel": {
           "align": "left"
          },
          "hovermode": "closest",
          "mapbox": {
           "style": "light"
          },
          "paper_bgcolor": "white",
          "plot_bgcolor": "white",
          "polar": {
           "angularaxis": {
            "gridcolor": "#EBF0F8",
            "linecolor": "#EBF0F8",
            "ticks": ""
           },
           "bgcolor": "white",
           "radialaxis": {
            "gridcolor": "#EBF0F8",
            "linecolor": "#EBF0F8",
            "ticks": ""
           }
          },
          "scene": {
           "xaxis": {
            "backgroundcolor": "white",
            "gridcolor": "#DFE8F3",
            "gridwidth": 2,
            "linecolor": "#EBF0F8",
            "showbackground": true,
            "ticks": "",
            "zerolinecolor": "#EBF0F8"
           },
           "yaxis": {
            "backgroundcolor": "white",
            "gridcolor": "#DFE8F3",
            "gridwidth": 2,
            "linecolor": "#EBF0F8",
            "showbackground": true,
            "ticks": "",
            "zerolinecolor": "#EBF0F8"
           },
           "zaxis": {
            "backgroundcolor": "white",
            "gridcolor": "#DFE8F3",
            "gridwidth": 2,
            "linecolor": "#EBF0F8",
            "showbackground": true,
            "ticks": "",
            "zerolinecolor": "#EBF0F8"
           }
          },
          "shapedefaults": {
           "line": {
            "color": "#2a3f5f"
           }
          },
          "ternary": {
           "aaxis": {
            "gridcolor": "#DFE8F3",
            "linecolor": "#A2B1C6",
            "ticks": ""
           },
           "baxis": {
            "gridcolor": "#DFE8F3",
            "linecolor": "#A2B1C6",
            "ticks": ""
           },
           "bgcolor": "white",
           "caxis": {
            "gridcolor": "#DFE8F3",
            "linecolor": "#A2B1C6",
            "ticks": ""
           }
          },
          "title": {
           "x": 0.05
          },
          "xaxis": {
           "automargin": true,
           "gridcolor": "#EBF0F8",
           "linecolor": "#EBF0F8",
           "ticks": "",
           "title": {
            "standoff": 15
           },
           "zerolinecolor": "#EBF0F8",
           "zerolinewidth": 2
          },
          "yaxis": {
           "automargin": true,
           "gridcolor": "#EBF0F8",
           "linecolor": "#EBF0F8",
           "ticks": "",
           "title": {
            "standoff": 15
           },
           "zerolinecolor": "#EBF0F8",
           "zerolinewidth": 2
          }
         }
        },
        "xaxis": {
         "constrain": "domain",
         "range": [
          -2.197224577336219,
          13.815509557935018
         ],
         "showgrid": false,
         "tickfont": {
          "size": 14
         },
         "tickmode": "array",
         "ticktext": [
          0.2,
          0.759,
          0.927,
          0.978,
          0.993,
          0.998,
          1
         ],
         "tickvals": [
          -1.3862943611198906,
          1.147204843904975,
          2.541494124417465,
          3.7944672166765008,
          4.954820514989858,
          6.212606095751517,
          13.815509557935018
         ],
         "title": {
          "font": {
           "size": 16
          },
          "text": "Confidence"
         },
         "visible": true,
         "zeroline": false
        },
        "yaxis": {
         "scaleanchor": "x",
         "scaleratio": 50,
         "showgrid": false,
         "tickfont": {
          "size": 14
         },
         "title": {
          "font": {
           "size": 16
          },
          "text": "Confidence - Accuracy"
         },
         "visible": true,
         "zerolinewidth": 2
        }
       }
      },
      "text/html": [
       "<div>\n",
       "        \n",
       "        \n",
       "            <div id=\"ea3ed465-e556-4071-83b0-91a85abc453c\" class=\"plotly-graph-div\" style=\"height:500px; width:100%;\"></div>\n",
       "            <script type=\"text/javascript\">\n",
       "                require([\"plotly\"], function(Plotly) {\n",
       "                    window.PLOTLYENV=window.PLOTLYENV || {};\n",
       "                    \n",
       "                if (document.getElementById(\"ea3ed465-e556-4071-83b0-91a85abc453c\")) {\n",
       "                    Plotly.newPlot(\n",
       "                        'ea3ed465-e556-4071-83b0-91a85abc453c',\n",
       "                        [{\"hoverinfo\": \"text+name\", \"hovertext\": [\"3.92%\", \"4.37%\", \"6.41%\", \"5.86%\", \"9.27%\", \"10.54%\", \"10.10%\", \"11.15%\", \"8.86%\", \"7.49%\", \"5.78%\", \"5.20%\", \"3.26%\", \"4.11%\", \"2.89%\", \"2.82%\", \"1.70%\", \"1.50%\", \"0.88%\", \"0.89%\"], \"mode\": \"markers+lines\", \"name\": \"SGD         |       ECE: 5.33%\", \"type\": \"scatter\", \"x\": [-1.2089381653649238, -0.47258590651608773, -0.03645306290164152, 0.2956454937451639, 0.6400445386254072, 1.0184696837976113, 1.4113608224402547, 1.8430921019397597, 2.324419393829957, 2.8322114514585426, 3.36374127855052, 3.8906521533033502, 4.461767531527425, 5.084217771415891, 5.778743386171167, 6.536006384051775, 7.415234799723022, 8.511042408520828, 10.113635236547006, 12.94773561082351], \"y\": [0.03915814648971777, 0.0437321593469962, 0.064146350187897, 0.05856582858881065, 0.09271388884228693, 0.10537096250015932, 0.10101812243931607, 0.11151255346936484, 0.08862154472201966, 0.07489625611450046, 0.05782495934995091, 0.052034737636272976, 0.03262498013562498, 0.04108218627314508, 0.028942556008658582, 0.028175530427029583, 0.017012442447757792, 0.01501097627518233, 0.00876652405135081, 0.008861437900320013]}, {\"hoverinfo\": \"text+name\", \"hovertext\": [\"-1.43%\", \"1.06%\", \"0.64%\", \"1.31%\", \"1.64%\", \"3.19%\", \"2.49%\", \"3.58%\", \"4.13%\", \"4.20%\", \"1.40%\", \"1.00%\", \"0.67%\", \"3.17%\", \"2.29%\", \"2.33%\", \"2.29%\", \"1.59%\", \"1.64%\", \"0.59%\"], \"mode\": \"markers+lines\", \"name\": \"DIAG        |       ECE: 2.03%\", \"type\": \"scatter\", \"x\": [-1.3066381216049194, -0.615234375, -0.22022461891174316, 0.0926123857498169, 0.3856194019317627, 0.6974685192108154, 1.0244700908660889, 1.3688608407974243, 1.7344717979431152, 2.12294602394104, 2.503126382827759, 2.894002676010132, 3.272462844848633, 3.6573429107666016, 4.149463176727295, 4.733359336853027, 5.4466986656188965, 6.373715400695801, 7.699570655822754, 10.056238174438477], \"y\": [-0.014331972210096106, 0.010593861556224937, 0.006414305529086672, 0.013128549743404938, 0.016364627880893545, 0.031917694857637846, 0.024873631729709356, 0.03578690331491874, 0.04133659582122795, 0.04203262922761919, 0.01403242989098008, 0.009999124263170955, 0.006706536770630489, 0.03169344877414082, 0.02290278095737086, 0.023305460965757474, 0.022929766160951215, 0.015911186571785474, 0.01636063427424983, 0.005945108607857574]}, {\"hoverinfo\": \"text+name\", \"hovertext\": [\"-1.80%\", \"0.22%\", \"-0.79%\", \"1.31%\", \"-2.15%\", \"-0.31%\", \"0.35%\", \"3.26%\", \"1.81%\", \"2.20%\", \"2.26%\", \"2.21%\", \"2.61%\", \"2.82%\", \"2.41%\", \"1.74%\", \"1.61%\", \"1.19%\", \"1.10%\", \"0.64%\"], \"mode\": \"markers+lines\", \"name\": \"KFAC        |       ECE: 1.63%\", \"type\": \"scatter\", \"x\": [-1.417542671584723, -0.7315174810732383, -0.3210744004501904, 0.0027082312343336135, 0.2957310286289504, 0.6128928931078432, 0.9448602002403965, 1.305995018869068, 1.684686991520631, 2.09745729867575, 2.533810402115434, 3.0155419650853923, 3.5051273077913754, 4.0343919983528025, 4.640173718270033, 5.299725839879172, 6.06543328443949, 7.014932051711233, 8.365444779667683, 10.79251402604207], \"y\": [-0.0179653734877743, 0.002203688513732871, -0.007928743572097052, 0.013086985337113333, -0.021477299606644018, -0.003120949758296465, 0.0035070903723883884, 0.03263884323124833, 0.01806380074016989, 0.021960839982094083, 0.022555187297268353, 0.02212642678263743, 0.02607750046653723, 0.028247791241894027, 0.024063228485120214, 0.017449777577862924, 0.016098358012819114, 0.011912687684979106, 0.01097624786777407, 0.00639484458851125]}],\n",
       "                        {\"height\": 500, \"hoverlabel\": {\"font\": {\"size\": 18}}, \"hovermode\": \"x\", \"legend\": {\"bgcolor\": \"rgba(0, 0, 0, 0)\", \"bordercolor\": \"rgba(0, 0, 0, 0)\", \"font\": {\"size\": 16}, \"traceorder\": \"normal\", \"xanchor\": \"right\", \"yanchor\": \"top\"}, \"margin\": {\"b\": 0, \"l\": 0, \"pad\": 0, \"r\": 0, \"t\": 0}, \"template\": {\"data\": {\"bar\": [{\"error_x\": {\"color\": \"#2a3f5f\"}, \"error_y\": {\"color\": \"#2a3f5f\"}, \"marker\": {\"line\": {\"color\": \"white\", \"width\": 0.5}}, \"type\": \"bar\"}], \"barpolar\": [{\"marker\": {\"line\": {\"color\": \"white\", \"width\": 0.5}}, \"type\": \"barpolar\"}], \"carpet\": [{\"aaxis\": {\"endlinecolor\": \"#2a3f5f\", \"gridcolor\": \"#C8D4E3\", \"linecolor\": \"#C8D4E3\", \"minorgridcolor\": \"#C8D4E3\", \"startlinecolor\": \"#2a3f5f\"}, \"baxis\": {\"endlinecolor\": \"#2a3f5f\", \"gridcolor\": \"#C8D4E3\", \"linecolor\": \"#C8D4E3\", \"minorgridcolor\": \"#C8D4E3\", \"startlinecolor\": \"#2a3f5f\"}, \"type\": \"carpet\"}], \"choropleth\": [{\"colorbar\": {\"outlinewidth\": 0, \"ticks\": \"\"}, \"type\": \"choropleth\"}], \"contour\": [{\"colorbar\": {\"outlinewidth\": 0, \"ticks\": \"\"}, \"colorscale\": [[0.0, \"#0d0887\"], [0.1111111111111111, \"#46039f\"], [0.2222222222222222, \"#7201a8\"], [0.3333333333333333, \"#9c179e\"], [0.4444444444444444, \"#bd3786\"], [0.5555555555555556, \"#d8576b\"], [0.6666666666666666, \"#ed7953\"], [0.7777777777777778, \"#fb9f3a\"], [0.8888888888888888, \"#fdca26\"], [1.0, \"#f0f921\"]], \"type\": \"contour\"}], \"contourcarpet\": [{\"colorbar\": {\"outlinewidth\": 0, \"ticks\": \"\"}, \"type\": \"contourcarpet\"}], \"heatmap\": [{\"colorbar\": {\"outlinewidth\": 0, \"ticks\": \"\"}, \"colorscale\": [[0.0, \"#0d0887\"], [0.1111111111111111, \"#46039f\"], [0.2222222222222222, \"#7201a8\"], [0.3333333333333333, \"#9c179e\"], [0.4444444444444444, \"#bd3786\"], [0.5555555555555556, \"#d8576b\"], [0.6666666666666666, \"#ed7953\"], [0.7777777777777778, \"#fb9f3a\"], [0.8888888888888888, \"#fdca26\"], [1.0, \"#f0f921\"]], \"type\": \"heatmap\"}], \"heatmapgl\": [{\"colorbar\": {\"outlinewidth\": 0, \"ticks\": \"\"}, \"colorscale\": [[0.0, \"#0d0887\"], [0.1111111111111111, \"#46039f\"], [0.2222222222222222, \"#7201a8\"], [0.3333333333333333, \"#9c179e\"], [0.4444444444444444, \"#bd3786\"], [0.5555555555555556, \"#d8576b\"], [0.6666666666666666, \"#ed7953\"], [0.7777777777777778, \"#fb9f3a\"], [0.8888888888888888, \"#fdca26\"], [1.0, \"#f0f921\"]], \"type\": \"heatmapgl\"}], \"histogram\": [{\"marker\": {\"colorbar\": {\"outlinewidth\": 0, \"ticks\": \"\"}}, \"type\": \"histogram\"}], \"histogram2d\": [{\"colorbar\": {\"outlinewidth\": 0, \"ticks\": \"\"}, \"colorscale\": [[0.0, \"#0d0887\"], [0.1111111111111111, \"#46039f\"], [0.2222222222222222, \"#7201a8\"], [0.3333333333333333, \"#9c179e\"], [0.4444444444444444, \"#bd3786\"], [0.5555555555555556, \"#d8576b\"], [0.6666666666666666, \"#ed7953\"], [0.7777777777777778, \"#fb9f3a\"], [0.8888888888888888, \"#fdca26\"], [1.0, \"#f0f921\"]], \"type\": \"histogram2d\"}], \"histogram2dcontour\": [{\"colorbar\": {\"outlinewidth\": 0, \"ticks\": \"\"}, \"colorscale\": [[0.0, \"#0d0887\"], [0.1111111111111111, \"#46039f\"], [0.2222222222222222, \"#7201a8\"], [0.3333333333333333, \"#9c179e\"], [0.4444444444444444, \"#bd3786\"], [0.5555555555555556, \"#d8576b\"], [0.6666666666666666, \"#ed7953\"], [0.7777777777777778, \"#fb9f3a\"], [0.8888888888888888, \"#fdca26\"], [1.0, \"#f0f921\"]], \"type\": \"histogram2dcontour\"}], \"mesh3d\": [{\"colorbar\": {\"outlinewidth\": 0, \"ticks\": \"\"}, \"type\": \"mesh3d\"}], \"parcoords\": [{\"line\": {\"colorbar\": {\"outlinewidth\": 0, \"ticks\": \"\"}}, \"type\": \"parcoords\"}], \"pie\": [{\"automargin\": true, \"type\": \"pie\"}], \"scatter\": [{\"marker\": {\"colorbar\": {\"outlinewidth\": 0, \"ticks\": \"\"}}, \"type\": \"scatter\"}], \"scatter3d\": [{\"line\": {\"colorbar\": {\"outlinewidth\": 0, \"ticks\": \"\"}}, \"marker\": {\"colorbar\": {\"outlinewidth\": 0, \"ticks\": \"\"}}, \"type\": \"scatter3d\"}], \"scattercarpet\": [{\"marker\": {\"colorbar\": {\"outlinewidth\": 0, \"ticks\": \"\"}}, \"type\": \"scattercarpet\"}], \"scattergeo\": [{\"marker\": {\"colorbar\": {\"outlinewidth\": 0, \"ticks\": \"\"}}, \"type\": \"scattergeo\"}], \"scattergl\": [{\"marker\": {\"colorbar\": {\"outlinewidth\": 0, \"ticks\": \"\"}}, \"type\": \"scattergl\"}], \"scattermapbox\": [{\"marker\": {\"colorbar\": {\"outlinewidth\": 0, \"ticks\": \"\"}}, \"type\": \"scattermapbox\"}], \"scatterpolar\": [{\"marker\": {\"colorbar\": {\"outlinewidth\": 0, \"ticks\": \"\"}}, \"type\": \"scatterpolar\"}], \"scatterpolargl\": [{\"marker\": {\"colorbar\": {\"outlinewidth\": 0, \"ticks\": \"\"}}, \"type\": \"scatterpolargl\"}], \"scatterternary\": [{\"marker\": {\"colorbar\": {\"outlinewidth\": 0, \"ticks\": \"\"}}, \"type\": \"scatterternary\"}], \"surface\": [{\"colorbar\": {\"outlinewidth\": 0, \"ticks\": \"\"}, \"colorscale\": [[0.0, \"#0d0887\"], [0.1111111111111111, \"#46039f\"], [0.2222222222222222, \"#7201a8\"], [0.3333333333333333, \"#9c179e\"], [0.4444444444444444, \"#bd3786\"], [0.5555555555555556, \"#d8576b\"], [0.6666666666666666, \"#ed7953\"], [0.7777777777777778, \"#fb9f3a\"], [0.8888888888888888, \"#fdca26\"], [1.0, \"#f0f921\"]], \"type\": \"surface\"}], \"table\": [{\"cells\": {\"fill\": {\"color\": \"#EBF0F8\"}, \"line\": {\"color\": \"white\"}}, \"header\": {\"fill\": {\"color\": \"#C8D4E3\"}, \"line\": {\"color\": \"white\"}}, \"type\": \"table\"}]}, \"layout\": {\"annotationdefaults\": {\"arrowcolor\": \"#2a3f5f\", \"arrowhead\": 0, \"arrowwidth\": 1}, \"coloraxis\": {\"colorbar\": {\"outlinewidth\": 0, \"ticks\": \"\"}}, \"colorscale\": {\"diverging\": [[0, \"#8e0152\"], [0.1, \"#c51b7d\"], [0.2, \"#de77ae\"], [0.3, \"#f1b6da\"], [0.4, \"#fde0ef\"], [0.5, \"#f7f7f7\"], [0.6, \"#e6f5d0\"], [0.7, \"#b8e186\"], [0.8, \"#7fbc41\"], [0.9, \"#4d9221\"], [1, \"#276419\"]], \"sequential\": [[0.0, \"#0d0887\"], [0.1111111111111111, \"#46039f\"], [0.2222222222222222, \"#7201a8\"], [0.3333333333333333, \"#9c179e\"], [0.4444444444444444, \"#bd3786\"], [0.5555555555555556, \"#d8576b\"], [0.6666666666666666, \"#ed7953\"], [0.7777777777777778, \"#fb9f3a\"], [0.8888888888888888, \"#fdca26\"], [1.0, \"#f0f921\"]], \"sequentialminus\": [[0.0, \"#0d0887\"], [0.1111111111111111, \"#46039f\"], [0.2222222222222222, \"#7201a8\"], [0.3333333333333333, \"#9c179e\"], [0.4444444444444444, \"#bd3786\"], [0.5555555555555556, \"#d8576b\"], [0.6666666666666666, \"#ed7953\"], [0.7777777777777778, \"#fb9f3a\"], [0.8888888888888888, \"#fdca26\"], [1.0, \"#f0f921\"]]}, \"colorway\": [\"#636efa\", \"#EF553B\", \"#00cc96\", \"#ab63fa\", \"#FFA15A\", \"#19d3f3\", \"#FF6692\", \"#B6E880\", \"#FF97FF\", \"#FECB52\"], \"font\": {\"color\": \"#2a3f5f\"}, \"geo\": {\"bgcolor\": \"white\", \"lakecolor\": \"white\", \"landcolor\": \"white\", \"showlakes\": true, \"showland\": true, \"subunitcolor\": \"#C8D4E3\"}, \"hoverlabel\": {\"align\": \"left\"}, \"hovermode\": \"closest\", \"mapbox\": {\"style\": \"light\"}, \"paper_bgcolor\": \"white\", \"plot_bgcolor\": \"white\", \"polar\": {\"angularaxis\": {\"gridcolor\": \"#EBF0F8\", \"linecolor\": \"#EBF0F8\", \"ticks\": \"\"}, \"bgcolor\": \"white\", \"radialaxis\": {\"gridcolor\": \"#EBF0F8\", \"linecolor\": \"#EBF0F8\", \"ticks\": \"\"}}, \"scene\": {\"xaxis\": {\"backgroundcolor\": \"white\", \"gridcolor\": \"#DFE8F3\", \"gridwidth\": 2, \"linecolor\": \"#EBF0F8\", \"showbackground\": true, \"ticks\": \"\", \"zerolinecolor\": \"#EBF0F8\"}, \"yaxis\": {\"backgroundcolor\": \"white\", \"gridcolor\": \"#DFE8F3\", \"gridwidth\": 2, \"linecolor\": \"#EBF0F8\", \"showbackground\": true, \"ticks\": \"\", \"zerolinecolor\": \"#EBF0F8\"}, \"zaxis\": {\"backgroundcolor\": \"white\", \"gridcolor\": \"#DFE8F3\", \"gridwidth\": 2, \"linecolor\": \"#EBF0F8\", \"showbackground\": true, \"ticks\": \"\", \"zerolinecolor\": \"#EBF0F8\"}}, \"shapedefaults\": {\"line\": {\"color\": \"#2a3f5f\"}}, \"ternary\": {\"aaxis\": {\"gridcolor\": \"#DFE8F3\", \"linecolor\": \"#A2B1C6\", \"ticks\": \"\"}, \"baxis\": {\"gridcolor\": \"#DFE8F3\", \"linecolor\": \"#A2B1C6\", \"ticks\": \"\"}, \"bgcolor\": \"white\", \"caxis\": {\"gridcolor\": \"#DFE8F3\", \"linecolor\": \"#A2B1C6\", \"ticks\": \"\"}}, \"title\": {\"x\": 0.05}, \"xaxis\": {\"automargin\": true, \"gridcolor\": \"#EBF0F8\", \"linecolor\": \"#EBF0F8\", \"ticks\": \"\", \"title\": {\"standoff\": 15}, \"zerolinecolor\": \"#EBF0F8\", \"zerolinewidth\": 2}, \"yaxis\": {\"automargin\": true, \"gridcolor\": \"#EBF0F8\", \"linecolor\": \"#EBF0F8\", \"ticks\": \"\", \"title\": {\"standoff\": 15}, \"zerolinecolor\": \"#EBF0F8\", \"zerolinewidth\": 2}}}, \"xaxis\": {\"constrain\": \"domain\", \"range\": [-2.197224577336219, 13.815509557935018], \"showgrid\": false, \"tickfont\": {\"size\": 14}, \"tickmode\": \"array\", \"ticktext\": [0.2, 0.759, 0.927, 0.978, 0.993, 0.998, 1], \"tickvals\": [-1.3862943611198906, 1.147204843904975, 2.541494124417465, 3.7944672166765008, 4.954820514989858, 6.212606095751517, 13.815509557935018], \"title\": {\"font\": {\"size\": 16}, \"text\": \"Confidence\"}, \"visible\": true, \"zeroline\": false}, \"yaxis\": {\"scaleanchor\": \"x\", \"scaleratio\": 50, \"showgrid\": false, \"tickfont\": {\"size\": 14}, \"title\": {\"font\": {\"size\": 16}, \"text\": \"Confidence - Accuracy\"}, \"visible\": true, \"zerolinewidth\": 2}},\n",
       "                        {\"responsive\": true}\n",
       "                    ).then(function(){\n",
       "                            \n",
       "var gd = document.getElementById('ea3ed465-e556-4071-83b0-91a85abc453c');\n",
       "var x = new MutationObserver(function (mutations, observer) {{\n",
       "        var display = window.getComputedStyle(gd).display;\n",
       "        if (!display || display === 'none') {{\n",
       "            console.log([gd, 'removed!']);\n",
       "            Plotly.purge(gd);\n",
       "            observer.disconnect();\n",
       "        }}\n",
       "}});\n",
       "\n",
       "// Listen for the removal of the full notebook cells\n",
       "var notebookContainer = gd.closest('#notebook-container');\n",
       "if (notebookContainer) {{\n",
       "    x.observe(notebookContainer, {childList: true});\n",
       "}}\n",
       "\n",
       "// Listen for the clearing of the current output cell\n",
       "var outputEl = gd.closest('.output');\n",
       "if (outputEl) {{\n",
       "    x.observe(outputEl, {childList: true});\n",
       "}}\n",
       "\n",
       "                        })\n",
       "                };\n",
       "                });\n",
       "            </script>\n",
       "        </div>"
      ]
     },
     "metadata": {},
     "output_type": "display_data"
    }
   ],
   "source": [
    "model = \"densenet161\"\n",
    "estimators = [\"sgd\", \"diag\", \"kfac\"]\n",
    "\n",
    "fig = go.Figure()\n",
    "for estimator in estimators:\n",
    "    data = get_data(model, \"imagenet\", estimator if estimator != \"sgd\" else \"kfac\", \"calibration\")\n",
    "    confs = data[\"bnn_confs\"] if estimator != \"sgd\" else data[\"confs\"]\n",
    "    accs = data[\"bnn_accs\"] if estimator != \"sgd\" else data[\"accs\"]\n",
    "    aces = data[\"bnn_aces\"] if estimator != \"sgd\" else data[\"aces\"]\n",
    "    acc = data[\"bnn_acc\"] if estimator != \"sgd\" else data[\"acc\"]\n",
    "    ece = data[\"bnn_ece\"] if estimator != \"sgd\" else data[\"ece\"]\n",
    "    space = ' ' * max(5, (12 - len(estimator)))\n",
    "    fig.add_trace(go.Scatter(mode=\"markers+lines\",\n",
    "                             name=f\"{estimator.upper()}{space}|       ECE: {100 * ece:.2f}%\",\n",
    "                             x=logit(confs),\n",
    "                             y=aces,\n",
    "                             hovertext=[f\"{100 * ace:.2f}%\" for ace in aces],\n",
    "                             hoverinfo=\"text+name\"))\n",
    "\n",
    "grid = False\n",
    "visible = True\n",
    "tickvals = [0.2, 0.759, 0.927, 0.978, 0.993, 0.998, 0.999999]\n",
    "fig.update_layout(\n",
    "    xaxis=dict(\n",
    "        constrain=\"domain\",\n",
    "        zeroline=False,\n",
    "        visible=visible,\n",
    "        range=logit([0.1, 0.999999]),\n",
    "        tickmode=\"array\",\n",
    "        tickvals=logit(tickvals),\n",
    "        ticktext=[0.2, 0.759, 0.927, 0.978, 0.993, 0.998, 1],\n",
    "        showgrid=grid,\n",
    "        title=\"Confidence\",\n",
    "        titlefont_size=16,\n",
    "        tickfont_size=14),\n",
    "    yaxis=dict(\n",
    "        zerolinewidth=2,\n",
    "        scaleanchor=\"x\",\n",
    "        scaleratio=50,\n",
    "        visible=visible,\n",
    "        showgrid=grid,\n",
    "        title=\"Confidence - Accuracy\",\n",
    "        titlefont_size=16,\n",
    "        tickfont_size=14),\n",
    "    legend=dict(\n",
    "        traceorder=\"normal\",\n",
    "        font=dict(size=16),\n",
    "        xanchor=\"right\",\n",
    "        yanchor=\"top\",\n",
    "        bgcolor='rgba(0, 0, 0, 0)',\n",
    "        bordercolor='rgba(0, 0, 0, 0)'),\n",
    "    template=\"plotly_white\",\n",
    "    hoverlabel=dict(font_size=18),\n",
    "    hovermode=\"x\",\n",
    "    height=500,\n",
    "    margin=dict(r=0, l=0, b=0, t=0, pad=0))"
   ]
  },
  {
   "cell_type": "code",
   "execution_count": 189,
   "metadata": {},
   "outputs": [],
   "source": [
    "# Save figure\n",
    "filename = f\"{model}_imagenet_calibration\"\n",
    "pio.write_html(fig,\n",
    "               file=f\"../_includes/figures/curvature/{filename}.html\",\n",
    "               full_html=False,\n",
    "               include_plotlyjs='cdn',\n",
    "               config=dict(displayModeBar=False))"
   ]
  },
  {
   "cell_type": "markdown",
   "metadata": {},
   "source": [
    "### 2. Network comparison"
   ]
  },
  {
   "cell_type": "code",
   "execution_count": 186,
   "metadata": {},
   "outputs": [
    {
     "data": {
      "application/vnd.plotly.v1+json": {
       "config": {
        "plotlyServerURL": "https://plot.ly"
       },
       "data": [
        {
         "hoverinfo": "text+name",
         "hovertext": [
          "-0.28%",
          "-0.25%",
          "0.77%",
          "3.27%",
          "-1.21%",
          "3.41%",
          "4.33%",
          "4.08%",
          "2.70%",
          "4.25%",
          "7.61%",
          "4.00%",
          "3.24%",
          "4.02%",
          "2.29%",
          "2.18%",
          "1.35%",
          "0.90%",
          "0.60%",
          "0.16%"
         ],
         "mode": "markers+lines",
         "name": "Densenet121 | ECE: 2.54%",
         "type": "scatter",
         "visible": true,
         "x": [
          -1.5400272607803345,
          -0.8464264869689941,
          -0.44236594438552856,
          -0.11444175243377686,
          0.15538626909255981,
          0.425977885723114,
          0.7383830547332764,
          1.0780616998672485,
          1.4449951648712158,
          1.8418560028076172,
          2.2604968547821045,
          2.7076148986816406,
          3.2079689502716064,
          3.7461578845977783,
          4.320075035095215,
          4.957589626312256,
          5.6958441734313965,
          6.588562488555908,
          7.797295570373535,
          9.967257499694824
         ],
         "y": [
          -0.0028121599299703315,
          -0.0024590857082409934,
          0.007670550798778042,
          0.032669734320132815,
          -0.012072083041417825,
          0.03405613212990133,
          0.04333553417288272,
          0.04076271795863817,
          0.027001209121594205,
          0.04251153555939535,
          0.07608857796228441,
          0.0399564748005069,
          0.032390068443991615,
          0.04018682160312603,
          0.02290447632535353,
          0.021842281659953167,
          0.013464802212482252,
          0.009034201180677215,
          0.005994448096776961,
          0.0016059837065451887
         ]
        },
        {
         "hoverinfo": "text+name",
         "hovertext": [
          "3.92%",
          "4.37%",
          "6.41%",
          "5.86%",
          "9.27%",
          "10.54%",
          "10.10%",
          "11.15%",
          "8.86%",
          "7.49%",
          "5.78%",
          "5.20%",
          "3.26%",
          "4.11%",
          "2.89%",
          "2.82%",
          "1.70%",
          "1.50%",
          "0.88%",
          "0.89%"
         ],
         "mode": "markers+lines",
         "name": "Densenet161 | ECE: 5.33%",
         "type": "scatter",
         "visible": true,
         "x": [
          -1.2089381653649238,
          -0.47258590651608773,
          -0.03645306290164152,
          0.2956454937451639,
          0.6400445386254072,
          1.0184696837976113,
          1.4113608224402547,
          1.8430921019397597,
          2.324419393829957,
          2.8322114514585426,
          3.36374127855052,
          3.8906521533033502,
          4.461767531527425,
          5.084217771415891,
          5.778743386171167,
          6.536006384051775,
          7.415234799723022,
          8.511042408520828,
          10.113635236547006,
          12.94773561082351
         ],
         "y": [
          0.03915814648971777,
          0.0437321593469962,
          0.064146350187897,
          0.05856582858881065,
          0.09271388884228693,
          0.10537096250015932,
          0.10101812243931607,
          0.11151255346936484,
          0.08862154472201966,
          0.07489625611450046,
          0.05782495934995091,
          0.052034737636272976,
          0.03262498013562498,
          0.04108218627314508,
          0.028942556008658582,
          0.028175530427029583,
          0.017012442447757792,
          0.01501097627518233,
          0.00876652405135081,
          0.008861437900320013
         ]
        },
        {
         "hoverinfo": "text+name",
         "hovertext": [
          "3.83%",
          "6.24%",
          "5.89%",
          "4.74%",
          "8.50%",
          "9.10%",
          "8.93%",
          "11.14%",
          "10.94%",
          "7.60%",
          "6.63%",
          "5.62%",
          "4.60%",
          "4.06%",
          "4.03%",
          "2.03%",
          "1.83%",
          "1.57%",
          "1.11%",
          "0.96%"
         ],
         "mode": "markers+lines",
         "name": "Densenet169 | ECE: 5.44%",
         "type": "scatter",
         "visible": true,
         "x": [
          -1.3339887667635266,
          -0.6055616636225221,
          -0.1763801042304427,
          0.1401399611460118,
          0.44827181664041504,
          0.7884236392856345,
          1.1715739055045074,
          1.571296692136868,
          2.003829132976799,
          2.4740602658907367,
          2.982224177125206,
          3.5228634876023532,
          4.089562516803349,
          4.696487124382873,
          5.38194715976867,
          6.138418641467701,
          7.02013915129013,
          8.133023986912372,
          9.685280058587134,
          12.469776315648852
         ],
         "y": [
          0.0382686127700099,
          0.062439799999342405,
          0.058901241405139915,
          0.04738769232284851,
          0.08500808825309691,
          0.09101557344580946,
          0.0892900772599402,
          0.11139512481350033,
          0.10938107256320018,
          0.07602620121017845,
          0.06625617643248949,
          0.05619924494542716,
          0.04597922971815449,
          0.04059498172417997,
          0.0402580628821394,
          0.0202642486995106,
          0.018322469161843435,
          0.015719217694196264,
          0.01114677878481607,
          0.009611543624403418
         ]
        },
        {
         "hoverinfo": "text+name",
         "hovertext": [
          "-1.45%",
          "2.12%",
          "1.81%",
          "4.66%",
          "4.37%",
          "4.30%",
          "4.31%",
          "5.69%",
          "6.46%",
          "6.24%",
          "5.03%",
          "4.97%",
          "4.11%",
          "2.72%",
          "2.33%",
          "2.03%",
          "1.11%",
          "1.69%",
          "0.54%",
          "0.48%"
         ],
         "mode": "markers+lines",
         "name": "Densenet201 | ECE: 3.31%",
         "type": "scatter",
         "visible": true,
         "x": [
          -1.418404495209139,
          -0.699708746501132,
          -0.27037016362999367,
          0.06621578887859181,
          0.3695644439182493,
          0.6898771817000162,
          1.0609050423541935,
          1.4517814595965277,
          1.8663364658355295,
          2.3067785647622214,
          2.761588379534552,
          3.2654444586676825,
          3.7886825801150463,
          4.343685559816196,
          4.9354161401066605,
          5.593498381882394,
          6.361769731726801,
          7.2922176167493,
          8.633327416962944,
          11.063057643361601
         ],
         "y": [
          -0.01453558506350941,
          0.021228286829778065,
          0.018084437232585016,
          0.046571920644990106,
          0.04371561804837387,
          0.043041285997631795,
          0.04310365423399776,
          0.05686972877026775,
          0.06459265373009415,
          0.06235922084686074,
          0.050252241454229574,
          0.04969331441221325,
          0.04112579348979972,
          0.027209995719797764,
          0.02328816120477728,
          0.020311033028027947,
          0.011086914301939421,
          0.016933737881709154,
          0.005426444149196352,
          0.004792011504561655
         ]
        }
       ],
       "layout": {
        "height": 500,
        "hoverlabel": {
         "font": {
          "size": 18
         }
        },
        "hovermode": "x",
        "legend": {
         "bgcolor": "rgba(0, 0, 0, 0)",
         "bordercolor": "rgba(0, 0, 0, 0)",
         "font": {
          "size": 16
         },
         "traceorder": "normal",
         "xanchor": "right",
         "yanchor": "top"
        },
        "margin": {
         "b": 0,
         "l": 0,
         "pad": 0,
         "r": 0,
         "t": 0
        },
        "template": {
         "data": {
          "bar": [
           {
            "error_x": {
             "color": "#2a3f5f"
            },
            "error_y": {
             "color": "#2a3f5f"
            },
            "marker": {
             "line": {
              "color": "white",
              "width": 0.5
             }
            },
            "type": "bar"
           }
          ],
          "barpolar": [
           {
            "marker": {
             "line": {
              "color": "white",
              "width": 0.5
             }
            },
            "type": "barpolar"
           }
          ],
          "carpet": [
           {
            "aaxis": {
             "endlinecolor": "#2a3f5f",
             "gridcolor": "#C8D4E3",
             "linecolor": "#C8D4E3",
             "minorgridcolor": "#C8D4E3",
             "startlinecolor": "#2a3f5f"
            },
            "baxis": {
             "endlinecolor": "#2a3f5f",
             "gridcolor": "#C8D4E3",
             "linecolor": "#C8D4E3",
             "minorgridcolor": "#C8D4E3",
             "startlinecolor": "#2a3f5f"
            },
            "type": "carpet"
           }
          ],
          "choropleth": [
           {
            "colorbar": {
             "outlinewidth": 0,
             "ticks": ""
            },
            "type": "choropleth"
           }
          ],
          "contour": [
           {
            "colorbar": {
             "outlinewidth": 0,
             "ticks": ""
            },
            "colorscale": [
             [
              0,
              "#0d0887"
             ],
             [
              0.1111111111111111,
              "#46039f"
             ],
             [
              0.2222222222222222,
              "#7201a8"
             ],
             [
              0.3333333333333333,
              "#9c179e"
             ],
             [
              0.4444444444444444,
              "#bd3786"
             ],
             [
              0.5555555555555556,
              "#d8576b"
             ],
             [
              0.6666666666666666,
              "#ed7953"
             ],
             [
              0.7777777777777778,
              "#fb9f3a"
             ],
             [
              0.8888888888888888,
              "#fdca26"
             ],
             [
              1,
              "#f0f921"
             ]
            ],
            "type": "contour"
           }
          ],
          "contourcarpet": [
           {
            "colorbar": {
             "outlinewidth": 0,
             "ticks": ""
            },
            "type": "contourcarpet"
           }
          ],
          "heatmap": [
           {
            "colorbar": {
             "outlinewidth": 0,
             "ticks": ""
            },
            "colorscale": [
             [
              0,
              "#0d0887"
             ],
             [
              0.1111111111111111,
              "#46039f"
             ],
             [
              0.2222222222222222,
              "#7201a8"
             ],
             [
              0.3333333333333333,
              "#9c179e"
             ],
             [
              0.4444444444444444,
              "#bd3786"
             ],
             [
              0.5555555555555556,
              "#d8576b"
             ],
             [
              0.6666666666666666,
              "#ed7953"
             ],
             [
              0.7777777777777778,
              "#fb9f3a"
             ],
             [
              0.8888888888888888,
              "#fdca26"
             ],
             [
              1,
              "#f0f921"
             ]
            ],
            "type": "heatmap"
           }
          ],
          "heatmapgl": [
           {
            "colorbar": {
             "outlinewidth": 0,
             "ticks": ""
            },
            "colorscale": [
             [
              0,
              "#0d0887"
             ],
             [
              0.1111111111111111,
              "#46039f"
             ],
             [
              0.2222222222222222,
              "#7201a8"
             ],
             [
              0.3333333333333333,
              "#9c179e"
             ],
             [
              0.4444444444444444,
              "#bd3786"
             ],
             [
              0.5555555555555556,
              "#d8576b"
             ],
             [
              0.6666666666666666,
              "#ed7953"
             ],
             [
              0.7777777777777778,
              "#fb9f3a"
             ],
             [
              0.8888888888888888,
              "#fdca26"
             ],
             [
              1,
              "#f0f921"
             ]
            ],
            "type": "heatmapgl"
           }
          ],
          "histogram": [
           {
            "marker": {
             "colorbar": {
              "outlinewidth": 0,
              "ticks": ""
             }
            },
            "type": "histogram"
           }
          ],
          "histogram2d": [
           {
            "colorbar": {
             "outlinewidth": 0,
             "ticks": ""
            },
            "colorscale": [
             [
              0,
              "#0d0887"
             ],
             [
              0.1111111111111111,
              "#46039f"
             ],
             [
              0.2222222222222222,
              "#7201a8"
             ],
             [
              0.3333333333333333,
              "#9c179e"
             ],
             [
              0.4444444444444444,
              "#bd3786"
             ],
             [
              0.5555555555555556,
              "#d8576b"
             ],
             [
              0.6666666666666666,
              "#ed7953"
             ],
             [
              0.7777777777777778,
              "#fb9f3a"
             ],
             [
              0.8888888888888888,
              "#fdca26"
             ],
             [
              1,
              "#f0f921"
             ]
            ],
            "type": "histogram2d"
           }
          ],
          "histogram2dcontour": [
           {
            "colorbar": {
             "outlinewidth": 0,
             "ticks": ""
            },
            "colorscale": [
             [
              0,
              "#0d0887"
             ],
             [
              0.1111111111111111,
              "#46039f"
             ],
             [
              0.2222222222222222,
              "#7201a8"
             ],
             [
              0.3333333333333333,
              "#9c179e"
             ],
             [
              0.4444444444444444,
              "#bd3786"
             ],
             [
              0.5555555555555556,
              "#d8576b"
             ],
             [
              0.6666666666666666,
              "#ed7953"
             ],
             [
              0.7777777777777778,
              "#fb9f3a"
             ],
             [
              0.8888888888888888,
              "#fdca26"
             ],
             [
              1,
              "#f0f921"
             ]
            ],
            "type": "histogram2dcontour"
           }
          ],
          "mesh3d": [
           {
            "colorbar": {
             "outlinewidth": 0,
             "ticks": ""
            },
            "type": "mesh3d"
           }
          ],
          "parcoords": [
           {
            "line": {
             "colorbar": {
              "outlinewidth": 0,
              "ticks": ""
             }
            },
            "type": "parcoords"
           }
          ],
          "pie": [
           {
            "automargin": true,
            "type": "pie"
           }
          ],
          "scatter": [
           {
            "marker": {
             "colorbar": {
              "outlinewidth": 0,
              "ticks": ""
             }
            },
            "type": "scatter"
           }
          ],
          "scatter3d": [
           {
            "line": {
             "colorbar": {
              "outlinewidth": 0,
              "ticks": ""
             }
            },
            "marker": {
             "colorbar": {
              "outlinewidth": 0,
              "ticks": ""
             }
            },
            "type": "scatter3d"
           }
          ],
          "scattercarpet": [
           {
            "marker": {
             "colorbar": {
              "outlinewidth": 0,
              "ticks": ""
             }
            },
            "type": "scattercarpet"
           }
          ],
          "scattergeo": [
           {
            "marker": {
             "colorbar": {
              "outlinewidth": 0,
              "ticks": ""
             }
            },
            "type": "scattergeo"
           }
          ],
          "scattergl": [
           {
            "marker": {
             "colorbar": {
              "outlinewidth": 0,
              "ticks": ""
             }
            },
            "type": "scattergl"
           }
          ],
          "scattermapbox": [
           {
            "marker": {
             "colorbar": {
              "outlinewidth": 0,
              "ticks": ""
             }
            },
            "type": "scattermapbox"
           }
          ],
          "scatterpolar": [
           {
            "marker": {
             "colorbar": {
              "outlinewidth": 0,
              "ticks": ""
             }
            },
            "type": "scatterpolar"
           }
          ],
          "scatterpolargl": [
           {
            "marker": {
             "colorbar": {
              "outlinewidth": 0,
              "ticks": ""
             }
            },
            "type": "scatterpolargl"
           }
          ],
          "scatterternary": [
           {
            "marker": {
             "colorbar": {
              "outlinewidth": 0,
              "ticks": ""
             }
            },
            "type": "scatterternary"
           }
          ],
          "surface": [
           {
            "colorbar": {
             "outlinewidth": 0,
             "ticks": ""
            },
            "colorscale": [
             [
              0,
              "#0d0887"
             ],
             [
              0.1111111111111111,
              "#46039f"
             ],
             [
              0.2222222222222222,
              "#7201a8"
             ],
             [
              0.3333333333333333,
              "#9c179e"
             ],
             [
              0.4444444444444444,
              "#bd3786"
             ],
             [
              0.5555555555555556,
              "#d8576b"
             ],
             [
              0.6666666666666666,
              "#ed7953"
             ],
             [
              0.7777777777777778,
              "#fb9f3a"
             ],
             [
              0.8888888888888888,
              "#fdca26"
             ],
             [
              1,
              "#f0f921"
             ]
            ],
            "type": "surface"
           }
          ],
          "table": [
           {
            "cells": {
             "fill": {
              "color": "#EBF0F8"
             },
             "line": {
              "color": "white"
             }
            },
            "header": {
             "fill": {
              "color": "#C8D4E3"
             },
             "line": {
              "color": "white"
             }
            },
            "type": "table"
           }
          ]
         },
         "layout": {
          "annotationdefaults": {
           "arrowcolor": "#2a3f5f",
           "arrowhead": 0,
           "arrowwidth": 1
          },
          "coloraxis": {
           "colorbar": {
            "outlinewidth": 0,
            "ticks": ""
           }
          },
          "colorscale": {
           "diverging": [
            [
             0,
             "#8e0152"
            ],
            [
             0.1,
             "#c51b7d"
            ],
            [
             0.2,
             "#de77ae"
            ],
            [
             0.3,
             "#f1b6da"
            ],
            [
             0.4,
             "#fde0ef"
            ],
            [
             0.5,
             "#f7f7f7"
            ],
            [
             0.6,
             "#e6f5d0"
            ],
            [
             0.7,
             "#b8e186"
            ],
            [
             0.8,
             "#7fbc41"
            ],
            [
             0.9,
             "#4d9221"
            ],
            [
             1,
             "#276419"
            ]
           ],
           "sequential": [
            [
             0,
             "#0d0887"
            ],
            [
             0.1111111111111111,
             "#46039f"
            ],
            [
             0.2222222222222222,
             "#7201a8"
            ],
            [
             0.3333333333333333,
             "#9c179e"
            ],
            [
             0.4444444444444444,
             "#bd3786"
            ],
            [
             0.5555555555555556,
             "#d8576b"
            ],
            [
             0.6666666666666666,
             "#ed7953"
            ],
            [
             0.7777777777777778,
             "#fb9f3a"
            ],
            [
             0.8888888888888888,
             "#fdca26"
            ],
            [
             1,
             "#f0f921"
            ]
           ],
           "sequentialminus": [
            [
             0,
             "#0d0887"
            ],
            [
             0.1111111111111111,
             "#46039f"
            ],
            [
             0.2222222222222222,
             "#7201a8"
            ],
            [
             0.3333333333333333,
             "#9c179e"
            ],
            [
             0.4444444444444444,
             "#bd3786"
            ],
            [
             0.5555555555555556,
             "#d8576b"
            ],
            [
             0.6666666666666666,
             "#ed7953"
            ],
            [
             0.7777777777777778,
             "#fb9f3a"
            ],
            [
             0.8888888888888888,
             "#fdca26"
            ],
            [
             1,
             "#f0f921"
            ]
           ]
          },
          "colorway": [
           "#636efa",
           "#EF553B",
           "#00cc96",
           "#ab63fa",
           "#FFA15A",
           "#19d3f3",
           "#FF6692",
           "#B6E880",
           "#FF97FF",
           "#FECB52"
          ],
          "font": {
           "color": "#2a3f5f"
          },
          "geo": {
           "bgcolor": "white",
           "lakecolor": "white",
           "landcolor": "white",
           "showlakes": true,
           "showland": true,
           "subunitcolor": "#C8D4E3"
          },
          "hoverlabel": {
           "align": "left"
          },
          "hovermode": "closest",
          "mapbox": {
           "style": "light"
          },
          "paper_bgcolor": "white",
          "plot_bgcolor": "white",
          "polar": {
           "angularaxis": {
            "gridcolor": "#EBF0F8",
            "linecolor": "#EBF0F8",
            "ticks": ""
           },
           "bgcolor": "white",
           "radialaxis": {
            "gridcolor": "#EBF0F8",
            "linecolor": "#EBF0F8",
            "ticks": ""
           }
          },
          "scene": {
           "xaxis": {
            "backgroundcolor": "white",
            "gridcolor": "#DFE8F3",
            "gridwidth": 2,
            "linecolor": "#EBF0F8",
            "showbackground": true,
            "ticks": "",
            "zerolinecolor": "#EBF0F8"
           },
           "yaxis": {
            "backgroundcolor": "white",
            "gridcolor": "#DFE8F3",
            "gridwidth": 2,
            "linecolor": "#EBF0F8",
            "showbackground": true,
            "ticks": "",
            "zerolinecolor": "#EBF0F8"
           },
           "zaxis": {
            "backgroundcolor": "white",
            "gridcolor": "#DFE8F3",
            "gridwidth": 2,
            "linecolor": "#EBF0F8",
            "showbackground": true,
            "ticks": "",
            "zerolinecolor": "#EBF0F8"
           }
          },
          "shapedefaults": {
           "line": {
            "color": "#2a3f5f"
           }
          },
          "ternary": {
           "aaxis": {
            "gridcolor": "#DFE8F3",
            "linecolor": "#A2B1C6",
            "ticks": ""
           },
           "baxis": {
            "gridcolor": "#DFE8F3",
            "linecolor": "#A2B1C6",
            "ticks": ""
           },
           "bgcolor": "white",
           "caxis": {
            "gridcolor": "#DFE8F3",
            "linecolor": "#A2B1C6",
            "ticks": ""
           }
          },
          "title": {
           "x": 0.05
          },
          "xaxis": {
           "automargin": true,
           "gridcolor": "#EBF0F8",
           "linecolor": "#EBF0F8",
           "ticks": "",
           "title": {
            "standoff": 15
           },
           "zerolinecolor": "#EBF0F8",
           "zerolinewidth": 2
          },
          "yaxis": {
           "automargin": true,
           "gridcolor": "#EBF0F8",
           "linecolor": "#EBF0F8",
           "ticks": "",
           "title": {
            "standoff": 15
           },
           "zerolinecolor": "#EBF0F8",
           "zerolinewidth": 2
          }
         }
        },
        "xaxis": {
         "constrain": "domain",
         "range": [
          -2.197224577336219,
          13.815509557935018
         ],
         "showgrid": false,
         "tickfont": {
          "size": 14
         },
         "tickmode": "array",
         "ticktext": [
          0.2,
          0.759,
          0.927,
          0.978,
          0.993,
          0.998,
          1
         ],
         "tickvals": [
          -1.3862943611198906,
          1.147204843904975,
          2.541494124417465,
          3.7944672166765008,
          4.954820514989858,
          6.212606095751517,
          13.815509557935018
         ],
         "title": {
          "font": {
           "size": 16
          },
          "text": "Confidence"
         },
         "visible": true,
         "zeroline": false
        },
        "yaxis": {
         "scaleanchor": "x",
         "scaleratio": 50,
         "showgrid": false,
         "tickfont": {
          "size": 14
         },
         "title": {
          "font": {
           "size": 16
          },
          "text": "Confidence - Accuracy"
         },
         "visible": true,
         "zerolinewidth": 2
        }
       }
      },
      "text/html": [
       "<div>\n",
       "        \n",
       "        \n",
       "            <div id=\"edcb96d4-9ff1-4488-ac63-1724047b0c6c\" class=\"plotly-graph-div\" style=\"height:500px; width:100%;\"></div>\n",
       "            <script type=\"text/javascript\">\n",
       "                require([\"plotly\"], function(Plotly) {\n",
       "                    window.PLOTLYENV=window.PLOTLYENV || {};\n",
       "                    \n",
       "                if (document.getElementById(\"edcb96d4-9ff1-4488-ac63-1724047b0c6c\")) {\n",
       "                    Plotly.newPlot(\n",
       "                        'edcb96d4-9ff1-4488-ac63-1724047b0c6c',\n",
       "                        [{\"hoverinfo\": \"text+name\", \"hovertext\": [\"-0.28%\", \"-0.25%\", \"0.77%\", \"3.27%\", \"-1.21%\", \"3.41%\", \"4.33%\", \"4.08%\", \"2.70%\", \"4.25%\", \"7.61%\", \"4.00%\", \"3.24%\", \"4.02%\", \"2.29%\", \"2.18%\", \"1.35%\", \"0.90%\", \"0.60%\", \"0.16%\"], \"mode\": \"markers+lines\", \"name\": \"Densenet121 | ECE: 2.54%\", \"type\": \"scatter\", \"visible\": true, \"x\": [-1.5400272607803345, -0.8464264869689941, -0.44236594438552856, -0.11444175243377686, 0.15538626909255981, 0.425977885723114, 0.7383830547332764, 1.0780616998672485, 1.4449951648712158, 1.8418560028076172, 2.2604968547821045, 2.7076148986816406, 3.2079689502716064, 3.7461578845977783, 4.320075035095215, 4.957589626312256, 5.6958441734313965, 6.588562488555908, 7.797295570373535, 9.967257499694824], \"y\": [-0.0028121599299703315, -0.0024590857082409934, 0.007670550798778042, 0.032669734320132815, -0.012072083041417825, 0.03405613212990133, 0.04333553417288272, 0.04076271795863817, 0.027001209121594205, 0.04251153555939535, 0.07608857796228441, 0.0399564748005069, 0.032390068443991615, 0.04018682160312603, 0.02290447632535353, 0.021842281659953167, 0.013464802212482252, 0.009034201180677215, 0.005994448096776961, 0.0016059837065451887]}, {\"hoverinfo\": \"text+name\", \"hovertext\": [\"3.92%\", \"4.37%\", \"6.41%\", \"5.86%\", \"9.27%\", \"10.54%\", \"10.10%\", \"11.15%\", \"8.86%\", \"7.49%\", \"5.78%\", \"5.20%\", \"3.26%\", \"4.11%\", \"2.89%\", \"2.82%\", \"1.70%\", \"1.50%\", \"0.88%\", \"0.89%\"], \"mode\": \"markers+lines\", \"name\": \"Densenet161 | ECE: 5.33%\", \"type\": \"scatter\", \"visible\": true, \"x\": [-1.2089381653649238, -0.47258590651608773, -0.03645306290164152, 0.2956454937451639, 0.6400445386254072, 1.0184696837976113, 1.4113608224402547, 1.8430921019397597, 2.324419393829957, 2.8322114514585426, 3.36374127855052, 3.8906521533033502, 4.461767531527425, 5.084217771415891, 5.778743386171167, 6.536006384051775, 7.415234799723022, 8.511042408520828, 10.113635236547006, 12.94773561082351], \"y\": [0.03915814648971777, 0.0437321593469962, 0.064146350187897, 0.05856582858881065, 0.09271388884228693, 0.10537096250015932, 0.10101812243931607, 0.11151255346936484, 0.08862154472201966, 0.07489625611450046, 0.05782495934995091, 0.052034737636272976, 0.03262498013562498, 0.04108218627314508, 0.028942556008658582, 0.028175530427029583, 0.017012442447757792, 0.01501097627518233, 0.00876652405135081, 0.008861437900320013]}, {\"hoverinfo\": \"text+name\", \"hovertext\": [\"3.83%\", \"6.24%\", \"5.89%\", \"4.74%\", \"8.50%\", \"9.10%\", \"8.93%\", \"11.14%\", \"10.94%\", \"7.60%\", \"6.63%\", \"5.62%\", \"4.60%\", \"4.06%\", \"4.03%\", \"2.03%\", \"1.83%\", \"1.57%\", \"1.11%\", \"0.96%\"], \"mode\": \"markers+lines\", \"name\": \"Densenet169 | ECE: 5.44%\", \"type\": \"scatter\", \"visible\": true, \"x\": [-1.3339887667635266, -0.6055616636225221, -0.1763801042304427, 0.1401399611460118, 0.44827181664041504, 0.7884236392856345, 1.1715739055045074, 1.571296692136868, 2.003829132976799, 2.4740602658907367, 2.982224177125206, 3.5228634876023532, 4.089562516803349, 4.696487124382873, 5.38194715976867, 6.138418641467701, 7.02013915129013, 8.133023986912372, 9.685280058587134, 12.469776315648852], \"y\": [0.0382686127700099, 0.062439799999342405, 0.058901241405139915, 0.04738769232284851, 0.08500808825309691, 0.09101557344580946, 0.0892900772599402, 0.11139512481350033, 0.10938107256320018, 0.07602620121017845, 0.06625617643248949, 0.05619924494542716, 0.04597922971815449, 0.04059498172417997, 0.0402580628821394, 0.0202642486995106, 0.018322469161843435, 0.015719217694196264, 0.01114677878481607, 0.009611543624403418]}, {\"hoverinfo\": \"text+name\", \"hovertext\": [\"-1.45%\", \"2.12%\", \"1.81%\", \"4.66%\", \"4.37%\", \"4.30%\", \"4.31%\", \"5.69%\", \"6.46%\", \"6.24%\", \"5.03%\", \"4.97%\", \"4.11%\", \"2.72%\", \"2.33%\", \"2.03%\", \"1.11%\", \"1.69%\", \"0.54%\", \"0.48%\"], \"mode\": \"markers+lines\", \"name\": \"Densenet201 | ECE: 3.31%\", \"type\": \"scatter\", \"visible\": true, \"x\": [-1.418404495209139, -0.699708746501132, -0.27037016362999367, 0.06621578887859181, 0.3695644439182493, 0.6898771817000162, 1.0609050423541935, 1.4517814595965277, 1.8663364658355295, 2.3067785647622214, 2.761588379534552, 3.2654444586676825, 3.7886825801150463, 4.343685559816196, 4.9354161401066605, 5.593498381882394, 6.361769731726801, 7.2922176167493, 8.633327416962944, 11.063057643361601], \"y\": [-0.01453558506350941, 0.021228286829778065, 0.018084437232585016, 0.046571920644990106, 0.04371561804837387, 0.043041285997631795, 0.04310365423399776, 0.05686972877026775, 0.06459265373009415, 0.06235922084686074, 0.050252241454229574, 0.04969331441221325, 0.04112579348979972, 0.027209995719797764, 0.02328816120477728, 0.020311033028027947, 0.011086914301939421, 0.016933737881709154, 0.005426444149196352, 0.004792011504561655]}],\n",
       "                        {\"height\": 500, \"hoverlabel\": {\"font\": {\"size\": 18}}, \"hovermode\": \"x\", \"legend\": {\"bgcolor\": \"rgba(0, 0, 0, 0)\", \"bordercolor\": \"rgba(0, 0, 0, 0)\", \"font\": {\"size\": 16}, \"traceorder\": \"normal\", \"xanchor\": \"right\", \"yanchor\": \"top\"}, \"margin\": {\"b\": 0, \"l\": 0, \"pad\": 0, \"r\": 0, \"t\": 0}, \"template\": {\"data\": {\"bar\": [{\"error_x\": {\"color\": \"#2a3f5f\"}, \"error_y\": {\"color\": \"#2a3f5f\"}, \"marker\": {\"line\": {\"color\": \"white\", \"width\": 0.5}}, \"type\": \"bar\"}], \"barpolar\": [{\"marker\": {\"line\": {\"color\": \"white\", \"width\": 0.5}}, \"type\": \"barpolar\"}], \"carpet\": [{\"aaxis\": {\"endlinecolor\": \"#2a3f5f\", \"gridcolor\": \"#C8D4E3\", \"linecolor\": \"#C8D4E3\", \"minorgridcolor\": \"#C8D4E3\", \"startlinecolor\": \"#2a3f5f\"}, \"baxis\": {\"endlinecolor\": \"#2a3f5f\", \"gridcolor\": \"#C8D4E3\", \"linecolor\": \"#C8D4E3\", \"minorgridcolor\": \"#C8D4E3\", \"startlinecolor\": \"#2a3f5f\"}, \"type\": \"carpet\"}], \"choropleth\": [{\"colorbar\": {\"outlinewidth\": 0, \"ticks\": \"\"}, \"type\": \"choropleth\"}], \"contour\": [{\"colorbar\": {\"outlinewidth\": 0, \"ticks\": \"\"}, \"colorscale\": [[0.0, \"#0d0887\"], [0.1111111111111111, \"#46039f\"], [0.2222222222222222, \"#7201a8\"], [0.3333333333333333, \"#9c179e\"], [0.4444444444444444, \"#bd3786\"], [0.5555555555555556, \"#d8576b\"], [0.6666666666666666, \"#ed7953\"], [0.7777777777777778, \"#fb9f3a\"], [0.8888888888888888, \"#fdca26\"], [1.0, \"#f0f921\"]], \"type\": \"contour\"}], \"contourcarpet\": [{\"colorbar\": {\"outlinewidth\": 0, \"ticks\": \"\"}, \"type\": \"contourcarpet\"}], \"heatmap\": [{\"colorbar\": {\"outlinewidth\": 0, \"ticks\": \"\"}, \"colorscale\": [[0.0, \"#0d0887\"], [0.1111111111111111, \"#46039f\"], [0.2222222222222222, \"#7201a8\"], [0.3333333333333333, \"#9c179e\"], [0.4444444444444444, \"#bd3786\"], [0.5555555555555556, \"#d8576b\"], [0.6666666666666666, \"#ed7953\"], [0.7777777777777778, \"#fb9f3a\"], [0.8888888888888888, \"#fdca26\"], [1.0, \"#f0f921\"]], \"type\": \"heatmap\"}], \"heatmapgl\": [{\"colorbar\": {\"outlinewidth\": 0, \"ticks\": \"\"}, \"colorscale\": [[0.0, \"#0d0887\"], [0.1111111111111111, \"#46039f\"], [0.2222222222222222, \"#7201a8\"], [0.3333333333333333, \"#9c179e\"], [0.4444444444444444, \"#bd3786\"], [0.5555555555555556, \"#d8576b\"], [0.6666666666666666, \"#ed7953\"], [0.7777777777777778, \"#fb9f3a\"], [0.8888888888888888, \"#fdca26\"], [1.0, \"#f0f921\"]], \"type\": \"heatmapgl\"}], \"histogram\": [{\"marker\": {\"colorbar\": {\"outlinewidth\": 0, \"ticks\": \"\"}}, \"type\": \"histogram\"}], \"histogram2d\": [{\"colorbar\": {\"outlinewidth\": 0, \"ticks\": \"\"}, \"colorscale\": [[0.0, \"#0d0887\"], [0.1111111111111111, \"#46039f\"], [0.2222222222222222, \"#7201a8\"], [0.3333333333333333, \"#9c179e\"], [0.4444444444444444, \"#bd3786\"], [0.5555555555555556, \"#d8576b\"], [0.6666666666666666, \"#ed7953\"], [0.7777777777777778, \"#fb9f3a\"], [0.8888888888888888, \"#fdca26\"], [1.0, \"#f0f921\"]], \"type\": \"histogram2d\"}], \"histogram2dcontour\": [{\"colorbar\": {\"outlinewidth\": 0, \"ticks\": \"\"}, \"colorscale\": [[0.0, \"#0d0887\"], [0.1111111111111111, \"#46039f\"], [0.2222222222222222, \"#7201a8\"], [0.3333333333333333, \"#9c179e\"], [0.4444444444444444, \"#bd3786\"], [0.5555555555555556, \"#d8576b\"], [0.6666666666666666, \"#ed7953\"], [0.7777777777777778, \"#fb9f3a\"], [0.8888888888888888, \"#fdca26\"], [1.0, \"#f0f921\"]], \"type\": \"histogram2dcontour\"}], \"mesh3d\": [{\"colorbar\": {\"outlinewidth\": 0, \"ticks\": \"\"}, \"type\": \"mesh3d\"}], \"parcoords\": [{\"line\": {\"colorbar\": {\"outlinewidth\": 0, \"ticks\": \"\"}}, \"type\": \"parcoords\"}], \"pie\": [{\"automargin\": true, \"type\": \"pie\"}], \"scatter\": [{\"marker\": {\"colorbar\": {\"outlinewidth\": 0, \"ticks\": \"\"}}, \"type\": \"scatter\"}], \"scatter3d\": [{\"line\": {\"colorbar\": {\"outlinewidth\": 0, \"ticks\": \"\"}}, \"marker\": {\"colorbar\": {\"outlinewidth\": 0, \"ticks\": \"\"}}, \"type\": \"scatter3d\"}], \"scattercarpet\": [{\"marker\": {\"colorbar\": {\"outlinewidth\": 0, \"ticks\": \"\"}}, \"type\": \"scattercarpet\"}], \"scattergeo\": [{\"marker\": {\"colorbar\": {\"outlinewidth\": 0, \"ticks\": \"\"}}, \"type\": \"scattergeo\"}], \"scattergl\": [{\"marker\": {\"colorbar\": {\"outlinewidth\": 0, \"ticks\": \"\"}}, \"type\": \"scattergl\"}], \"scattermapbox\": [{\"marker\": {\"colorbar\": {\"outlinewidth\": 0, \"ticks\": \"\"}}, \"type\": \"scattermapbox\"}], \"scatterpolar\": [{\"marker\": {\"colorbar\": {\"outlinewidth\": 0, \"ticks\": \"\"}}, \"type\": \"scatterpolar\"}], \"scatterpolargl\": [{\"marker\": {\"colorbar\": {\"outlinewidth\": 0, \"ticks\": \"\"}}, \"type\": \"scatterpolargl\"}], \"scatterternary\": [{\"marker\": {\"colorbar\": {\"outlinewidth\": 0, \"ticks\": \"\"}}, \"type\": \"scatterternary\"}], \"surface\": [{\"colorbar\": {\"outlinewidth\": 0, \"ticks\": \"\"}, \"colorscale\": [[0.0, \"#0d0887\"], [0.1111111111111111, \"#46039f\"], [0.2222222222222222, \"#7201a8\"], [0.3333333333333333, \"#9c179e\"], [0.4444444444444444, \"#bd3786\"], [0.5555555555555556, \"#d8576b\"], [0.6666666666666666, \"#ed7953\"], [0.7777777777777778, \"#fb9f3a\"], [0.8888888888888888, \"#fdca26\"], [1.0, \"#f0f921\"]], \"type\": \"surface\"}], \"table\": [{\"cells\": {\"fill\": {\"color\": \"#EBF0F8\"}, \"line\": {\"color\": \"white\"}}, \"header\": {\"fill\": {\"color\": \"#C8D4E3\"}, \"line\": {\"color\": \"white\"}}, \"type\": \"table\"}]}, \"layout\": {\"annotationdefaults\": {\"arrowcolor\": \"#2a3f5f\", \"arrowhead\": 0, \"arrowwidth\": 1}, \"coloraxis\": {\"colorbar\": {\"outlinewidth\": 0, \"ticks\": \"\"}}, \"colorscale\": {\"diverging\": [[0, \"#8e0152\"], [0.1, \"#c51b7d\"], [0.2, \"#de77ae\"], [0.3, \"#f1b6da\"], [0.4, \"#fde0ef\"], [0.5, \"#f7f7f7\"], [0.6, \"#e6f5d0\"], [0.7, \"#b8e186\"], [0.8, \"#7fbc41\"], [0.9, \"#4d9221\"], [1, \"#276419\"]], \"sequential\": [[0.0, \"#0d0887\"], [0.1111111111111111, \"#46039f\"], [0.2222222222222222, \"#7201a8\"], [0.3333333333333333, \"#9c179e\"], [0.4444444444444444, \"#bd3786\"], [0.5555555555555556, \"#d8576b\"], [0.6666666666666666, \"#ed7953\"], [0.7777777777777778, \"#fb9f3a\"], [0.8888888888888888, \"#fdca26\"], [1.0, \"#f0f921\"]], \"sequentialminus\": [[0.0, \"#0d0887\"], [0.1111111111111111, \"#46039f\"], [0.2222222222222222, \"#7201a8\"], [0.3333333333333333, \"#9c179e\"], [0.4444444444444444, \"#bd3786\"], [0.5555555555555556, \"#d8576b\"], [0.6666666666666666, \"#ed7953\"], [0.7777777777777778, \"#fb9f3a\"], [0.8888888888888888, \"#fdca26\"], [1.0, \"#f0f921\"]]}, \"colorway\": [\"#636efa\", \"#EF553B\", \"#00cc96\", \"#ab63fa\", \"#FFA15A\", \"#19d3f3\", \"#FF6692\", \"#B6E880\", \"#FF97FF\", \"#FECB52\"], \"font\": {\"color\": \"#2a3f5f\"}, \"geo\": {\"bgcolor\": \"white\", \"lakecolor\": \"white\", \"landcolor\": \"white\", \"showlakes\": true, \"showland\": true, \"subunitcolor\": \"#C8D4E3\"}, \"hoverlabel\": {\"align\": \"left\"}, \"hovermode\": \"closest\", \"mapbox\": {\"style\": \"light\"}, \"paper_bgcolor\": \"white\", \"plot_bgcolor\": \"white\", \"polar\": {\"angularaxis\": {\"gridcolor\": \"#EBF0F8\", \"linecolor\": \"#EBF0F8\", \"ticks\": \"\"}, \"bgcolor\": \"white\", \"radialaxis\": {\"gridcolor\": \"#EBF0F8\", \"linecolor\": \"#EBF0F8\", \"ticks\": \"\"}}, \"scene\": {\"xaxis\": {\"backgroundcolor\": \"white\", \"gridcolor\": \"#DFE8F3\", \"gridwidth\": 2, \"linecolor\": \"#EBF0F8\", \"showbackground\": true, \"ticks\": \"\", \"zerolinecolor\": \"#EBF0F8\"}, \"yaxis\": {\"backgroundcolor\": \"white\", \"gridcolor\": \"#DFE8F3\", \"gridwidth\": 2, \"linecolor\": \"#EBF0F8\", \"showbackground\": true, \"ticks\": \"\", \"zerolinecolor\": \"#EBF0F8\"}, \"zaxis\": {\"backgroundcolor\": \"white\", \"gridcolor\": \"#DFE8F3\", \"gridwidth\": 2, \"linecolor\": \"#EBF0F8\", \"showbackground\": true, \"ticks\": \"\", \"zerolinecolor\": \"#EBF0F8\"}}, \"shapedefaults\": {\"line\": {\"color\": \"#2a3f5f\"}}, \"ternary\": {\"aaxis\": {\"gridcolor\": \"#DFE8F3\", \"linecolor\": \"#A2B1C6\", \"ticks\": \"\"}, \"baxis\": {\"gridcolor\": \"#DFE8F3\", \"linecolor\": \"#A2B1C6\", \"ticks\": \"\"}, \"bgcolor\": \"white\", \"caxis\": {\"gridcolor\": \"#DFE8F3\", \"linecolor\": \"#A2B1C6\", \"ticks\": \"\"}}, \"title\": {\"x\": 0.05}, \"xaxis\": {\"automargin\": true, \"gridcolor\": \"#EBF0F8\", \"linecolor\": \"#EBF0F8\", \"ticks\": \"\", \"title\": {\"standoff\": 15}, \"zerolinecolor\": \"#EBF0F8\", \"zerolinewidth\": 2}, \"yaxis\": {\"automargin\": true, \"gridcolor\": \"#EBF0F8\", \"linecolor\": \"#EBF0F8\", \"ticks\": \"\", \"title\": {\"standoff\": 15}, \"zerolinecolor\": \"#EBF0F8\", \"zerolinewidth\": 2}}}, \"xaxis\": {\"constrain\": \"domain\", \"range\": [-2.197224577336219, 13.815509557935018], \"showgrid\": false, \"tickfont\": {\"size\": 14}, \"tickmode\": \"array\", \"ticktext\": [0.2, 0.759, 0.927, 0.978, 0.993, 0.998, 1], \"tickvals\": [-1.3862943611198906, 1.147204843904975, 2.541494124417465, 3.7944672166765008, 4.954820514989858, 6.212606095751517, 13.815509557935018], \"title\": {\"font\": {\"size\": 16}, \"text\": \"Confidence\"}, \"visible\": true, \"zeroline\": false}, \"yaxis\": {\"scaleanchor\": \"x\", \"scaleratio\": 50, \"showgrid\": false, \"tickfont\": {\"size\": 14}, \"title\": {\"font\": {\"size\": 16}, \"text\": \"Confidence - Accuracy\"}, \"visible\": true, \"zerolinewidth\": 2}},\n",
       "                        {\"responsive\": true}\n",
       "                    ).then(function(){\n",
       "                            \n",
       "var gd = document.getElementById('edcb96d4-9ff1-4488-ac63-1724047b0c6c');\n",
       "var x = new MutationObserver(function (mutations, observer) {{\n",
       "        var display = window.getComputedStyle(gd).display;\n",
       "        if (!display || display === 'none') {{\n",
       "            console.log([gd, 'removed!']);\n",
       "            Plotly.purge(gd);\n",
       "            observer.disconnect();\n",
       "        }}\n",
       "}});\n",
       "\n",
       "// Listen for the removal of the full notebook cells\n",
       "var notebookContainer = gd.closest('#notebook-container');\n",
       "if (notebookContainer) {{\n",
       "    x.observe(notebookContainer, {childList: true});\n",
       "}}\n",
       "\n",
       "// Listen for the clearing of the current output cell\n",
       "var outputEl = gd.closest('.output');\n",
       "if (outputEl) {{\n",
       "    x.observe(outputEl, {childList: true});\n",
       "}}\n",
       "\n",
       "                        })\n",
       "                };\n",
       "                });\n",
       "            </script>\n",
       "        </div>"
      ]
     },
     "metadata": {},
     "output_type": "display_data"
    }
   ],
   "source": [
    "prefix = \"densenets_\"\n",
    "models = densenets\n",
    "estimator = \"sgd\"\n",
    "\n",
    "fig = go.Figure()\n",
    "for model in models:\n",
    "    try:\n",
    "        data = get_data(model, \"imagenet\", estimator if estimator != \"sgd\" else \"kfac\", \"calibration\")\n",
    "        confs = data[\"bnn_confs\"] if estimator != \"sgd\" else data[\"confs\"]\n",
    "        accs = data[\"bnn_accs\"] if estimator != \"sgd\" else data[\"accs\"]\n",
    "        aces = data[\"bnn_aces\"] if estimator != \"sgd\" else data[\"aces\"]\n",
    "        acc = data[\"bnn_acc\"] if estimator != \"sgd\" else data[\"acc\"]\n",
    "        ece = data[\"bnn_ece\"] if estimator != \"sgd\" else data[\"ece\"]\n",
    "        fig.add_trace(go.Scatter(\n",
    "                        mode=\"markers+lines\",\n",
    "                        name=f\"{model.capitalize()} | ECE: {100 * ece:.2f}%\",\n",
    "                        x=logit(confs),\n",
    "                        y=aces,\n",
    "                        hovertext=[f\"{100 * ace:.2f}%\" for ace in aces],\n",
    "                        hoverinfo=\"text+name\",\n",
    "                        visible=\"legendonly\" if model in [\"inception_v3\", \"googlenet\"] else True))\n",
    "    except FileNotFoundError:\n",
    "        print(f\"No data for {model} and estimator {estimator}.\")\n",
    "\n",
    "grid = False\n",
    "visible = True\n",
    "tickvals = [0.2, 0.759, 0.927, 0.978, 0.993, 0.998, 0.999999]\n",
    "fig.update_layout(\n",
    "    xaxis=dict(\n",
    "        constrain=\"domain\",\n",
    "        zeroline=False,\n",
    "        visible=visible,\n",
    "        range=logit([0.1, 0.999999]),\n",
    "        tickmode=\"array\",\n",
    "        tickvals=logit(tickvals),\n",
    "        ticktext=[0.2, 0.759, 0.927, 0.978, 0.993, 0.998, 1],\n",
    "        showgrid=grid,\n",
    "        title=\"Confidence\",\n",
    "        titlefont_size=16,\n",
    "        tickfont_size=14),\n",
    "    yaxis=dict(\n",
    "        zerolinewidth=2,\n",
    "        scaleanchor=\"x\",\n",
    "        scaleratio=50,\n",
    "        visible=visible,\n",
    "        showgrid=grid,\n",
    "        title=\"Confidence - Accuracy\",\n",
    "        titlefont_size=16,\n",
    "        tickfont_size=14),\n",
    "    legend=dict(\n",
    "        traceorder=\"normal\",\n",
    "        font=dict(size=16),\n",
    "        xanchor=\"right\",\n",
    "        yanchor=\"top\",\n",
    "        bgcolor='rgba(0, 0, 0, 0)',\n",
    "        bordercolor='rgba(0, 0, 0, 0)'),\n",
    "    template=\"plotly_white\",\n",
    "    hoverlabel=dict(font_size=18),\n",
    "    hovermode=\"x\",\n",
    "    height=500,\n",
    "    margin=dict(r=0, l=0, b=0, t=0, pad=0))"
   ]
  },
  {
   "cell_type": "code",
   "execution_count": 185,
   "metadata": {},
   "outputs": [],
   "source": [
    "# Save figure\n",
    "filename = f\"{prefix}{estimator}_imagenet_calibration\"\n",
    "pio.write_html(fig,\n",
    "               file=f\"../_includes/figures/curvature/{filename}.html\",\n",
    "               full_html=False,\n",
    "               include_plotlyjs='cdn',\n",
    "               config=dict(displayModeBar=False))"
   ]
  },
  {
   "cell_type": "markdown",
   "metadata": {},
   "source": [
    "## Uncertainty NN vs BNN"
   ]
  },
  {
   "cell_type": "markdown",
   "metadata": {},
   "source": [
    "### 1. Estimator comparison using ECDF"
   ]
  },
  {
   "cell_type": "code",
   "execution_count": null,
   "metadata": {},
   "outputs": [],
   "source": [
    "model = \"densenet121\"\n",
    "colors = DEFAULT_PLOTLY_COLORS\n",
    "fig = go.Figure()\n",
    "\n",
    "for index, estimator in enumerate([\"sgd\", \"diag\", \"kfac\", \"efb\"]):\n",
    "    data = get_data(model, \"imagenet\", estimator if estimator != \"sgd\" else \"kfac\", plot=\"entropy\")\n",
    "    x_lim = np.log(data[\"num_classes\"])\n",
    "    entropy_range = np.linspace(0, x_lim, data[\"num_classes\"])\n",
    "    \n",
    "    ecdf = ECDF(data[\"bnn_pred_ent\"] if estimator != \"sgd\" else data[\"pred_ent\"])\n",
    "    ood_ecdf = ECDF(data[\"bnn_ood_pred_ent\"] if estimator != \"sgd\" else data[\"ood_pred_ent\"])\n",
    "    \n",
    "    fig.add_trace(go.Scatter(x=entropy_range,\n",
    "                             y=1 - ecdf(entropy_range),\n",
    "                             marker_color=colors[index],\n",
    "                             line=dict(dash=\"dash\",\n",
    "                                       width=3),\n",
    "                             showlegend=False,\n",
    "                             hovertemplate=\"%{y}<extra></extra>\",\n",
    "                             legendgroup=index,\n",
    "                             visible=\"legendonly\" if estimator in [\"kfac\", \"efb\"] else True))\n",
    "    fig.add_trace(go.Scatter(name=estimator.upper(),\n",
    "                             x=entropy_range,\n",
    "                             y=1 - ood_ecdf(entropy_range),\n",
    "                             marker_color=colors[index],\n",
    "                             line_width=3,\n",
    "                             legendgroup=index,\n",
    "                             visible=\"legendonly\" if estimator in [\"kfac\", \"efb\"] else True))\n",
    "\n",
    "# Hack to have a separated line style legend\n",
    "fig.add_trace(go.Scatter(name=\"\",\n",
    "                         x=[0, 0],\n",
    "                         y=[0, 0],\n",
    "                         marker_color=\"rgba(0, 0, 0, 0)\"))\n",
    "fig.add_trace(go.Scatter(name=\"out-of-domain\",\n",
    "                         mode=\"lines\",\n",
    "                         x=[0, 0],\n",
    "                         y=[0, 0],\n",
    "                         marker_color=\"black\"))\n",
    "fig.add_trace(go.Scatter(name=\"in-domain\",\n",
    "                         mode=\"lines\",\n",
    "                         x=[0, 0],\n",
    "                         y=[0, 0],\n",
    "                         marker_color=\"black\",\n",
    "                         line=dict(dash=\"dash\")))\n",
    "\n",
    "fig.update_layout(\n",
    "    xaxis=dict(\n",
    "        constrain=\"domain\",\n",
    "        zeroline=False,\n",
    "        range=[-0.1, np.ceil(x_lim)],\n",
    "        showgrid=False,\n",
    "        title=\"Predictive entropy\",\n",
    "        titlefont_size=16,\n",
    "        tickfont_size=14),\n",
    "    yaxis=dict(\n",
    "        scaleanchor=\"x\",\n",
    "        scaleratio=3.5,\n",
    "        zeroline=False,\n",
    "        range=[-0.01, 1.01],\n",
    "        showgrid=False,\n",
    "        title=\"1-ecdf\",\n",
    "        titlefont_size=16,\n",
    "        tickfont_size=14),\n",
    "    legend=dict(\n",
    "        traceorder=\"normal\",\n",
    "        font=dict(size=16),\n",
    "        x=0.95,\n",
    "        y=0.98,\n",
    "        bgcolor='rgba(0, 0, 0, 0)',\n",
    "        bordercolor='rgba(0, 0, 0, 0)'),\n",
    "    template=\"plotly_white\",\n",
    "    hoverlabel=dict(font_size=18),\n",
    "    hovermode=\"x\",\n",
    "    height=500,\n",
    "    margin=dict(r=0, l=0, b=0, t=0, pad=0))"
   ]
  },
  {
   "cell_type": "code",
   "execution_count": null,
   "metadata": {},
   "outputs": [],
   "source": [
    "# Save figure\n",
    "filename = f\"{model}_imagenet_ecdf\"\n",
    "pio.write_html(fig,\n",
    "               file=f\"../_includes/figures/curvature/{filename}.html\",\n",
    "               full_html=False,\n",
    "               include_plotlyjs='cdn',\n",
    "               config=dict(displayModeBar=False))"
   ]
  },
  {
   "cell_type": "markdown",
   "metadata": {},
   "source": [
    "### 2. Network comparison using ECDF"
   ]
  },
  {
   "cell_type": "code",
   "execution_count": null,
   "metadata": {},
   "outputs": [],
   "source": [
    "prefix = \"resnets_\"\n",
    "models = resnets\n",
    "estimator = \"sgd\"\n",
    "colors = DEFAULT_PLOTLY_COLORS\n",
    "fig = go.Figure()\n",
    "\n",
    "index = 0\n",
    "for model in models:\n",
    "    try:\n",
    "        data = get_data(model, \"imagenet\", estimator if estimator != \"sgd\" else \"kfac\", plot=\"entropy\")\n",
    "        x_lim = np.log(data[\"num_classes\"])\n",
    "        entropy_range = np.linspace(0, x_lim, data[\"num_classes\"])\n",
    "\n",
    "        ecdf = ECDF(data[\"bnn_pred_ent\"] if estimator != \"sgd\" else data[\"pred_ent\"])\n",
    "        ood_ecdf = ECDF(data[\"bnn_ood_pred_ent\"] if estimator != \"sgd\" else data[\"ood_pred_ent\"])\n",
    "\n",
    "        fig.add_trace(go.Scatter(x=entropy_range,\n",
    "                                 y=1 - ecdf(entropy_range),\n",
    "                                 marker_color=colors[index],\n",
    "                                 line=dict(dash=\"dash\",\n",
    "                                           width=3),\n",
    "                                 showlegend=False,\n",
    "                                 hovertemplate=\"%{y}<extra></extra>\",\n",
    "                                 legendgroup=index))\n",
    "        fig.add_trace(go.Scatter(name=model.capitalize(),\n",
    "                                 x=entropy_range,\n",
    "                                 y=1 - ood_ecdf(entropy_range),\n",
    "                                 marker_color=colors[index],\n",
    "                                 line_width=3,\n",
    "                                 legendgroup=index))\n",
    "        index += 1\n",
    "    except FileNotFoundError:\n",
    "        print(f\"No data for {model} and estimator {estimator}.\")\n",
    "\n",
    "# Hack to have a separated line style legend\n",
    "fig.add_trace(go.Scatter(name=\"\",\n",
    "                         x=[0, 0],\n",
    "                         y=[0, 0],\n",
    "                         marker_color=\"rgba(0, 0, 0, 0)\"))\n",
    "fig.add_trace(go.Scatter(name=\"out-of-domain\",\n",
    "                         mode=\"lines\",\n",
    "                         x=[0, 0],\n",
    "                         y=[0, 0],\n",
    "                         marker_color=\"black\"))\n",
    "fig.add_trace(go.Scatter(name=\"in-domain\",\n",
    "                         mode=\"lines\",\n",
    "                         x=[0, 0],\n",
    "                         y=[0, 0],\n",
    "                         marker_color=\"black\",\n",
    "                         line=dict(dash=\"dash\")))\n",
    "\n",
    "fig.update_layout(\n",
    "    xaxis=dict(\n",
    "        constrain=\"domain\",\n",
    "        zeroline=False,\n",
    "        range=[-0.1, np.ceil(x_lim)],\n",
    "        showgrid=False,\n",
    "        title=\"Predictive entropy\",\n",
    "        titlefont_size=16,\n",
    "        tickfont_size=14),\n",
    "    yaxis=dict(\n",
    "        scaleanchor=\"x\",\n",
    "        scaleratio=3.5,\n",
    "        zeroline=False,\n",
    "        range=[-0.01, 1.01],\n",
    "        showgrid=False,\n",
    "        title=\"1-ecdf\",\n",
    "        titlefont_size=16,\n",
    "        tickfont_size=14),\n",
    "    legend=dict(\n",
    "        traceorder=\"normal\",\n",
    "        font=dict(size=16),\n",
    "        x=0.95,\n",
    "        y=0.98,\n",
    "        bgcolor='rgba(0, 0, 0, 0)',\n",
    "        bordercolor='rgba(0, 0, 0, 0)'),\n",
    "    template=\"plotly_white\",\n",
    "    hoverlabel=dict(font_size=18),\n",
    "    hovermode=\"x\",\n",
    "    height=500,\n",
    "    margin=dict(r=0, l=0, b=0, t=0, pad=0))"
   ]
  },
  {
   "cell_type": "code",
   "execution_count": null,
   "metadata": {},
   "outputs": [],
   "source": [
    "# Save figure\n",
    "filename = f\"{prefix}{estimator}_imagenet_ecdf\"\n",
    "pio.write_html(fig,\n",
    "               file=f\"../_includes/figures/curvature/{filename}.html\",\n",
    "               full_html=False,\n",
    "               include_plotlyjs='cdn',\n",
    "               config=dict(displayModeBar=False))"
   ]
  },
  {
   "cell_type": "markdown",
   "metadata": {},
   "source": [
    "### In- vs out-of-distribution histogram"
   ]
  },
  {
   "cell_type": "code",
   "execution_count": null,
   "metadata": {},
   "outputs": [],
   "source": [
    "model = \"densenet121\"\n",
    "estimator = \"sgd\"\n",
    "normalize = False\n",
    "overlay = True\n",
    "\n",
    "data = get_data(model, \"imagenet\", estimator if estimator != \"sgd\" else \"kfac\", plot=\"entropy\")\n",
    "in_domain = data[\"pred_ent\"] if estimator == \"sgd\" else data[\"bnn_pred_ent\"]\n",
    "out_of_domain = data[\"ood_pred_ent\"] if estimator == \"sgd\" else data[\"bnn_ood_pred_ent\"]\n",
    "\n",
    "fig = go.Figure(data=[go.Histogram(x=in_domain,\n",
    "                                   nbinsx=100,\n",
    "                                   name=\"Known domain\",\n",
    "                                   histnorm=\"probability\" if normalize else \"\",\n",
    "                                   marker=dict(line=dict(color=\"black\", width=1 if overlay else 0))),\n",
    "                      go.Histogram(x=out_of_domain,\n",
    "                                   nbinsx=100,\n",
    "                                   name=\"Unknown domain\",\n",
    "                                   histnorm=\"probability\" if normalize else \"\",\n",
    "                                   marker=dict(line=dict(color=\"black\", width=1 if overlay else 0)))])\n",
    "if overlay:\n",
    "    fig.update_traces(opacity=0.75)\n",
    "\n",
    "fig.update_layout(\n",
    "    xaxis=dict(\n",
    "        #constrain=\"domain\",\n",
    "        #range=[-0.1, np.ceil(np.log(data[\"num_classes\"]))],\n",
    "        zeroline=False,\n",
    "        showgrid=False,\n",
    "        title=\"Predictive entropy\",\n",
    "        titlefont_size=16,\n",
    "        tickfont_size=14),\n",
    "    yaxis=dict(\n",
    "        #scaleanchor=\"x\",\n",
    "        #scaleratio=0.00065,\n",
    "        zeroline=False,\n",
    "        showgrid=False,\n",
    "        title=\"Density\" if normalize else \"Frequency\",\n",
    "        titlefont_size=16,\n",
    "        tickfont_size=14),\n",
    "    legend=dict(\n",
    "        traceorder=\"normal\",\n",
    "        font=dict(size=16),\n",
    "        x=0.95,\n",
    "        y=0.98,\n",
    "        bgcolor='rgba(0, 0, 0, 0)',\n",
    "        bordercolor='rgba(0, 0, 0, 0)'),\n",
    "    barmode=\"overlay\" if overlay else \"group\",\n",
    "    template=\"plotly_white\",\n",
    "    hoverlabel=dict(font_size=18),\n",
    "    hovermode=\"x\",\n",
    "    height=500,\n",
    "    margin=dict(r=0, l=0, b=0, t=0, pad=0))"
   ]
  },
  {
   "cell_type": "code",
   "execution_count": null,
   "metadata": {},
   "outputs": [],
   "source": [
    "# Save figure\n",
    "filename = f\"{model}_{estimator}_imagenet_hist\"\n",
    "pio.write_html(fig,\n",
    "               file=f\"../_includes/figures/curvature/{filename}.html\",\n",
    "               full_html=False,\n",
    "               include_plotlyjs='cdn',\n",
    "               config=dict(displayModeBar=False))"
   ]
  },
  {
   "cell_type": "markdown",
   "metadata": {},
   "source": [
    "## The Hessian"
   ]
  },
  {
   "cell_type": "code",
   "execution_count": null,
   "metadata": {},
   "outputs": [],
   "source": [
    "fig = go.Figure()\n",
    "fig.add_shape(\n",
    "            type=\"rect\",\n",
    "            xref=\"x\",\n",
    "            yref=\"y\",\n",
    "            x0=0,\n",
    "            y0=0,\n",
    "            x1=1,\n",
    "            y1=1,\n",
    "            line=dict(width=0),\n",
    "            fillcolor=\"floralwhite\")\n",
    "\n",
    "index = 0\n",
    "for w in np.arange(0, 0.3, 0.1):\n",
    "    fig.add_trace(go.Scatter(x=[w, 0.05 + w],\n",
    "                             y=[0.95 - w, 1 - w],\n",
    "                             name=f\"|W.{index}|\",\n",
    "                             hoverinfo=\"name\",\n",
    "                             showlegend=False))\n",
    "    fig.add_shape(\n",
    "            type=\"rect\",\n",
    "            xref=\"x\",\n",
    "            yref=\"y\",\n",
    "            x0=w,\n",
    "            y0=0.9 - w,\n",
    "            x1=0.1 + w,\n",
    "            y1=1 - w,\n",
    "            line=dict(width=0),\n",
    "            fillcolor=\"salmon\")\n",
    "    index += 1\n",
    "    \n",
    "fig.add_trace(go.Scatter(x=[0.3, 0.4],\n",
    "                         y=[0.6, 0.7],\n",
    "                         name=f\"|W.{index}|\",\n",
    "                         hoverinfo=\"name\",\n",
    "                         showlegend=False))\n",
    "fig.add_shape(\n",
    "        type=\"rect\",\n",
    "        xref=\"x\",\n",
    "        yref=\"y\",\n",
    "        x0=0.3,\n",
    "        y0=0.5,\n",
    "        x1=0.5,\n",
    "        y1=0.7,\n",
    "        line=dict(width=0),\n",
    "        fillcolor=\"salmon\")\n",
    "\n",
    "for i in range(3):\n",
    "    fig.add_shape(type=\"circle\",\n",
    "                  xref='x',\n",
    "                  yref='y',\n",
    "                  x0=0.54 + (i * 0.05),\n",
    "                  y0=0.46 - (i * 0.05),\n",
    "                  x1=0.56 + (i * 0.05),\n",
    "                  y1=0.44 - (i * 0.05),\n",
    "                  line_width=0,\n",
    "                  fillcolor=\"salmon\")\n",
    "\n",
    "fig.add_trace(go.Scatter(x=[0.7, 0.8],\n",
    "                         y=[0.2, 0.3],\n",
    "                         name=\"|W.L-1|\",\n",
    "                         hoverinfo=\"name\",\n",
    "                         showlegend=False))\n",
    "fig.add_shape(\n",
    "        type=\"rect\",\n",
    "        xref=\"x\",\n",
    "        yref=\"y\",\n",
    "        x0=0.7,\n",
    "        y0=0.3,\n",
    "        x1=0.9,\n",
    "        y1=0.1,\n",
    "        line=dict(width=0),\n",
    "        fillcolor=\"salmon\")\n",
    "\n",
    "fig.add_trace(go.Scatter(x=[0.9, 0.95],\n",
    "                         y=[0.05, 0.1],\n",
    "                         name=\"|W.L|\",\n",
    "                         hoverinfo=\"name\",\n",
    "                         showlegend=False))\n",
    "fig.add_shape(\n",
    "        type=\"rect\",\n",
    "        xref=\"x\",\n",
    "        yref=\"y\",\n",
    "        x0=0.9,\n",
    "        y0=0.1,\n",
    "        x1=1,\n",
    "        y1=0,\n",
    "        line=dict(width=0),\n",
    "        fillcolor=\"salmon\")\n",
    "\n",
    "fig.update_layout(\n",
    "    xaxis=dict(title=\"|W|\",\n",
    "               range=[0, 1],\n",
    "               constrain=\"domain\",\n",
    "               tickmode=\"array\",\n",
    "               tickvals=[],\n",
    "               tick0=0,\n",
    "               dtick=1,\n",
    "               titlefont_size=16),\n",
    "    yaxis=dict(title=\"|W|\",\n",
    "               range=[0, 1],\n",
    "               scaleanchor='x',\n",
    "               scaleratio=1,\n",
    "               constrain=\"domain\",\n",
    "               tickmode =\"array\",\n",
    "               tickvals=[],\n",
    "               tick0=0,\n",
    "               dtick=1,\n",
    "               titlefont_size=16),\n",
    "    hoverlabel=dict(font_size=18),\n",
    "    margin=dict(t=0, b=0, l=0, r=0),\n",
    "    height=350,\n",
    "    template=\"plotly_white\")"
   ]
  },
  {
   "cell_type": "code",
   "execution_count": null,
   "metadata": {},
   "outputs": [],
   "source": [
    "# Save figure\n",
    "pio.write_html(fig,\n",
    "               file=f\"../_includes/figures/hessian.html\",\n",
    "               full_html=False,\n",
    "               include_plotlyjs='cdn',\n",
    "               config=dict(displayModeBar=False))"
   ]
  },
  {
   "cell_type": "markdown",
   "metadata": {},
   "source": [
    "## Variance and Covariance"
   ]
  },
  {
   "cell_type": "code",
   "execution_count": null,
   "metadata": {},
   "outputs": [],
   "source": [
    "def multivariate_gaussian(pos, mu, Sigma):\n",
    "    \"\"\"Return the multivariate Gaussian distribution on array pos.\n",
    "\n",
    "    pos is an array constructed by packing the meshed arrays of variables\n",
    "    x_1, x_2, x_3, ..., x_k into its _last_ dimension.\n",
    "\n",
    "    \"\"\"\n",
    "\n",
    "    n = mu.shape[0]\n",
    "    Sigma_det = np.linalg.det(Sigma)\n",
    "    Sigma_inv = np.linalg.inv(Sigma)\n",
    "    N = np.sqrt((2*np.pi)**n * Sigma_det)\n",
    "    # This einsum call calculates (x-mu)T.Sigma-1.(x-mu) in a vectorized\n",
    "    # way across all the input variables.\n",
    "    fac = np.einsum('...k,kl,...l->...', pos-mu, Sigma_inv, pos-mu)\n",
    "\n",
    "    return np.exp(-fac / 2) / N"
   ]
  },
  {
   "cell_type": "code",
   "execution_count": null,
   "metadata": {},
   "outputs": [],
   "source": [
    "# Our 2-dimensional distribution will be over variables X and Y\n",
    "N = 60\n",
    "x = np.linspace(-5, 5, N)\n",
    "y = np.linspace(-5, 5, N)\n",
    "X, Y = np.meshgrid(x, y)\n",
    "\n",
    "\n",
    "# Mean vector and covariance matrix\n",
    "mu = np.array([0., 0.])\n",
    "Sigma = np.array([[2., 0.],\n",
    "                  [0., 2.]])\n",
    "\n",
    "# Pack X and Y into a single 3-dimensional array\n",
    "pos = np.empty(X.shape + (2,))\n",
    "pos[:, :, 0] = X\n",
    "pos[:, :, 1] = Y\n",
    "\n",
    "# The distribution on the variables X, Y packed into pos.\n",
    "fig = go.Figure()\n",
    "    \n",
    "for vx in np.arange(2, 7, 1):\n",
    "    Sigma[0, 0] = vx\n",
    "    Z = multivariate_gaussian(pos, mu, Sigma)\n",
    "    fig.add_trace(go.Surface(x=X,\n",
    "                             y=Y,\n",
    "                             z=Z,\n",
    "                             opacity=0.7,\n",
    "                             visible=False,\n",
    "                             hoverinfo=\"none\"))\n",
    "\n",
    "Sigma = np.array([[2., 0.],\n",
    "                  [0., 2.]])\n",
    "for vy in np.arange(2, 7, 1):\n",
    "    Sigma[1, 1] = vy\n",
    "    Z = multivariate_gaussian(pos, mu, Sigma)\n",
    "    fig.add_trace(go.Surface(x=X,\n",
    "                             y=Y,\n",
    "                             z=Z,\n",
    "                             opacity=0.7,\n",
    "                             visible=False,\n",
    "                             hoverinfo=\"none\"))\n",
    "    \n",
    "Sigma = np.array([[2., 0.],\n",
    "                  [0., 2.]])\n",
    "for cov in np.arange(-1, 1.2, 0.25):\n",
    "    Sigma[1, 0] = Sigma[0, 1] = cov\n",
    "    Z = multivariate_gaussian(pos, mu, Sigma)\n",
    "    fig.add_trace(go.Surface(x=X,\n",
    "                             y=Y,\n",
    "                             z=Z,\n",
    "                             opacity=0.7,\n",
    "                             visible=False,\n",
    "                             hoverinfo=\"none\"))\n",
    "\n",
    "fig.update_traces(contours_z=dict(show=True,\n",
    "                                  usecolormap=True,\n",
    "                                  project_z=True),\n",
    "                  showscale=False)\n",
    "\n",
    "fig.data[0].visible = True\n",
    "\n",
    "# Create and add slider\n",
    "steps = []\n",
    "for i in range(len(fig.data)):\n",
    "    step = dict(\n",
    "        label=\"\",\n",
    "        method=\"update\",\n",
    "        args=[{\"visible\": [False] * len(fig.data)}],  # layout attribute\n",
    "    )\n",
    "    step[\"args\"][0][\"visible\"][i] = True  # Toggle i'th trace to \"visible\"\n",
    "    steps.append(step)\n",
    "\n",
    "sliders = [\n",
    "    dict(active=0,\n",
    "         currentvalue={\"prefix\": \"<b>Variance X</b>\"},\n",
    "         pad={\"l\": 100, \"r\": 100},\n",
    "         steps=steps[:5],\n",
    "         tickwidth=0,\n",
    "         ticklen=0,),\n",
    "    dict(active=0,\n",
    "         currentvalue={\"prefix\": \"<b>Variance Y</b>\"},\n",
    "         pad={\"l\": 100, \"r\": 100, \"t\": 70},\n",
    "         steps=steps[5:10],\n",
    "         tickwidth=0,\n",
    "         ticklen=0),\n",
    "   dict(active=4,\n",
    "         currentvalue={\"prefix\": \"<b>Covariance</b>\"},\n",
    "         pad={\"l\": 100, \"r\": 100, \"t\": 140, \"b\": 10},\n",
    "         steps=steps[10:],\n",
    "         tickwidth=0,\n",
    "         ticklen=0)]\n",
    "\n",
    "fig.update_layout(scene=dict(\n",
    "                    xaxis=dict(visible=False),\n",
    "                    yaxis=dict(visible=False),\n",
    "                    zaxis=dict(visible=False)),\n",
    "                  height=700,\n",
    "                  margin=dict(r=0, l=0, b=0, t=0, pad=0),\n",
    "                  sliders=sliders,\n",
    "                  scene_camera=dict(eye=dict(x=0.6, y=0, z=1),\n",
    "                                    center=dict(x=0, y=0, z=-0.1)),\n",
    "                  template=\"plotly_white\")"
   ]
  },
  {
   "cell_type": "code",
   "execution_count": null,
   "metadata": {},
   "outputs": [],
   "source": [
    "# Save figure\n",
    "pio.write_html(fig,\n",
    "               file=f\"../_includes/figures/gaussian_covariance.html\",\n",
    "               full_html=False,\n",
    "               include_plotlyjs='cdn',\n",
    "               config=dict(displayModeBar=False))"
   ]
  },
  {
   "cell_type": "markdown",
   "metadata": {},
   "source": [
    "## Kronecker product"
   ]
  },
  {
   "cell_type": "code",
   "execution_count": null,
   "metadata": {},
   "outputs": [],
   "source": [
    "def add_four_squares(fig, x0, y0, sidelength, colors):\n",
    "    fig.add_shape(type=\"rect\",\n",
    "                  xref=\"x\",\n",
    "                  yref=\"y\",\n",
    "                  x0=x0,\n",
    "                  y0=y0,\n",
    "                  x1=x0 + sidelength,\n",
    "                  y1=y0 + sidelength,\n",
    "                  line=dict(width=1),\n",
    "                  fillcolor=colors[0])\n",
    "    fig.add_shape(type=\"rect\",\n",
    "                  xref=\"x\",\n",
    "                  yref=\"y\",\n",
    "                  x0=x0,\n",
    "                  y0=y0 + sidelength,\n",
    "                  x1=x0 + sidelength,\n",
    "                  y1=y0 + 2*sidelength,\n",
    "                  line=dict(width=1),\n",
    "                  fillcolor=colors[1])\n",
    "    fig.add_shape(type=\"rect\",\n",
    "                  xref=\"x\",\n",
    "                  yref=\"y\",\n",
    "                  x0=x0 + sidelength,\n",
    "                  y0=y0 + sidelength,\n",
    "                  x1=x0 + 2*sidelength,\n",
    "                  y1=y0 + 2*sidelength,\n",
    "                  line=dict(width=1),\n",
    "                  fillcolor=colors[2])\n",
    "    fig.add_shape(type=\"rect\",\n",
    "                  xref=\"x\",\n",
    "                  yref=\"y\",\n",
    "                  x0=x0 + sidelength,\n",
    "                  y0=y0,\n",
    "                  x1=x0 + 2*sidelength,\n",
    "                  y1=y0 + sidelength,\n",
    "                  line=dict(width=1),\n",
    "                  fillcolor=colors[3])\n",
    "\n",
    "fig = go.Figure()\n",
    "add_four_squares(fig, 0, 0, 0.25, [\"tomato\", \"tomato\", \"tomato\", \"tomato\"])\n",
    "add_four_squares(fig, 0.5, 0, 0.25, [\"gold\", \"gold\", \"gold\", \"gold\"])\n",
    "add_four_squares(fig, 0.5, 0.5, 0.25, [\"cornflowerblue\", \"cornflowerblue\", \"cornflowerblue\", \"cornflowerblue\"])\n",
    "add_four_squares(fig, 0, 0.5, 0.25, [\"mediumspringgreen\", \"mediumspringgreen\", \"mediumspringgreen\", \"mediumspringgreen\"])\n",
    "\n",
    "add_four_squares(fig, 1.2, 0.25, 0.25, [\"tomato\", \"mediumspringgreen\", \"cornflowerblue\", \"gold\"])\n",
    "add_four_squares(fig, 1.9, 0.25, 0.25, [\"gray\", \"gray\", \"gray\", \"gray\"])\n",
    "\n",
    "annotations=[dict(x=1.1,\n",
    "                  y=0.5,\n",
    "                  xref=\"x\",\n",
    "                  yref=\"y\",\n",
    "                  text=r\"$=$\",\n",
    "                  showarrow=False),\n",
    "             dict(x=1.8,\n",
    "                  y=0.5,\n",
    "                  xref=\"x\",\n",
    "                  yref=\"y\",\n",
    "                  text=r\"$\\otimes$\",\n",
    "                  showarrow=False)]\n",
    "\n",
    "fig.update_layout(\n",
    "    xaxis=dict(range=[0, 2.5],\n",
    "               visible=False,\n",
    "               constrain=\"domain\",\n",
    "               tickmode=\"array\",\n",
    "               tickvals=[],\n",
    "               tick0=0,\n",
    "               dtick=1,\n",
    "               titlefont_size=16),\n",
    "    yaxis=dict(range=[0, 1],\n",
    "               visible=False,\n",
    "               scaleanchor='x',\n",
    "               scaleratio=1,\n",
    "               constrain=\"domain\",\n",
    "               tickmode =\"array\",\n",
    "               tickvals=[],\n",
    "               tick0=0,\n",
    "               dtick=1,\n",
    "               titlefont_size=16),\n",
    "    hoverlabel=dict(font_size=18),\n",
    "    margin=dict(t=0, b=0, l=0, r=0),\n",
    "    height=150,\n",
    "    annotations=annotations,\n",
    "    template=\"plotly_white\")"
   ]
  },
  {
   "cell_type": "code",
   "execution_count": null,
   "metadata": {},
   "outputs": [],
   "source": [
    "# Save figure\n",
    "pio.write_html(fig,\n",
    "               file=f\"../_includes/figures/kronecker_product.html\",\n",
    "               full_html=False,\n",
    "               include_plotlyjs='cdn',\n",
    "               config=dict(displayModeBar=False))"
   ]
  },
  {
   "cell_type": "markdown",
   "metadata": {},
   "source": [
    "## Hyperparameters"
   ]
  },
  {
   "cell_type": "code",
   "execution_count": null,
   "metadata": {},
   "outputs": [],
   "source": [
    "# Our 2-dimensional distribution will be over variables X and Y\n",
    "N = 60\n",
    "x = np.linspace(-5, 5, N)\n",
    "y = np.linspace(-5, 5, N)\n",
    "X, Y = np.meshgrid(x, y)\n",
    "\n",
    "\n",
    "# Mean vector and covariance matrix\n",
    "mu = np.array([0., 0.])\n",
    "inv_cov = np.linalg.inv([[3., 1.],\n",
    "                         [1., 3.]])\n",
    "\n",
    "# Pack X and Y into a single 3-dimensional array\n",
    "pos = np.empty(X.shape + (2,))\n",
    "pos[:, :, 0] = X\n",
    "pos[:, :, 1] = Y\n",
    "\n",
    "# The distribution on the variables X, Y packed into pos.\n",
    "fig = go.Figure()\n",
    "    \n",
    "for n in np.arange(1., 2., 0.2):\n",
    "    inv_cov *= n\n",
    "    Z = multivariate_gaussian(pos, mu, np.linalg.inv(inv_cov))\n",
    "    fig.add_trace(go.Surface(x=X,\n",
    "                             y=Y,\n",
    "                             z=Z,\n",
    "                             opacity=0.7,\n",
    "                             visible=False,\n",
    "                             hoverinfo=\"none\"))\n",
    "\n",
    "inv_cov = np.linalg.inv([[3., 1.],\n",
    "                         [1., 3.]])\n",
    "for tau in np.arange(0., 1., 0.2):\n",
    "    inv_cov += tau * np.eye(2)\n",
    "    Z = multivariate_gaussian(pos, mu, np.linalg.inv(inv_cov))\n",
    "    fig.add_trace(go.Surface(x=X,\n",
    "                             y=Y,\n",
    "                             z=Z,\n",
    "                             opacity=0.7,\n",
    "                             visible=False,\n",
    "                             hoverinfo=\"none\"))\n",
    "\n",
    "fig.update_traces(contours_z=dict(show=True,\n",
    "                                  usecolormap=True,\n",
    "                                  start=0.01,\n",
    "                                  end=0.3,\n",
    "                                  size=0.02,\n",
    "                                  project_z=True),\n",
    "                  showscale=False)\n",
    "\n",
    "fig.data[0].visible = True\n",
    "\n",
    "# Create and add slider\n",
    "steps = []\n",
    "for i in range(len(fig.data)):\n",
    "    step = dict(\n",
    "        label=\"\",\n",
    "        method=\"update\",\n",
    "        args=[{\"visible\": [False] * len(fig.data)}],  # layout attribute\n",
    "    )\n",
    "    step[\"args\"][0][\"visible\"][i] = True  # Toggle i'th trace to \"visible\"\n",
    "    steps.append(step)\n",
    "\n",
    "sliders = [\n",
    "    dict(active=0,\n",
    "         currentvalue={\"prefix\": \"<b>N</b>\"},\n",
    "         pad={\"l\": 100, \"r\": 100},\n",
    "         steps=steps[:5],\n",
    "         tickwidth=0,\n",
    "         ticklen=0,),\n",
    "    dict(active=0,\n",
    "         currentvalue={\"prefix\": \"<b>tau</b>\"},\n",
    "         pad={\"l\": 100, \"r\": 100, \"t\": 70},\n",
    "         steps=steps[5:],\n",
    "         tickwidth=0,\n",
    "         ticklen=0)]\n",
    "\n",
    "fig.update_layout(scene=dict(\n",
    "                    xaxis=dict(visible=False),\n",
    "                    yaxis=dict(visible=False),\n",
    "                    zaxis=dict(visible=False)),\n",
    "                  height=700,\n",
    "                  margin=dict(r=0, l=0, b=0, t=0, pad=0),\n",
    "                  sliders=sliders,\n",
    "                  scene_camera=dict(eye=dict(x=0.6, y=0, z=1),\n",
    "                                    center=dict(x=0, y=0, z=-0.1)),\n",
    "                  template=\"plotly_white\")"
   ]
  },
  {
   "cell_type": "code",
   "execution_count": null,
   "metadata": {},
   "outputs": [],
   "source": [
    "# Save figure\n",
    "pio.write_html(fig,\n",
    "               file=f\"../_includes/figures/gauss_hyper.html\",\n",
    "               full_html=False,\n",
    "               include_plotlyjs='cdn',\n",
    "               config=dict(displayModeBar=False))"
   ]
  },
  {
   "cell_type": "code",
   "execution_count": null,
   "metadata": {},
   "outputs": [],
   "source": []
  }
 ],
 "metadata": {
  "kernelspec": {
   "display_name": "Python [conda env:blog] *",
   "language": "python",
   "name": "conda-env-blog-py"
  },
  "language_info": {
   "codemirror_mode": {
    "name": "ipython",
    "version": 3
   },
   "file_extension": ".py",
   "mimetype": "text/x-python",
   "name": "python",
   "nbconvert_exporter": "python",
   "pygments_lexer": "ipython3",
   "version": "3.8.3"
  }
 },
 "nbformat": 4,
 "nbformat_minor": 4
}
